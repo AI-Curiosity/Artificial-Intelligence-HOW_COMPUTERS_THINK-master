{
  "nbformat": 4,
  "nbformat_minor": 0,
  "metadata": {
    "kernelspec": {
      "name": "python3",
      "display_name": "Python 3"
    },
    "language_info": {
      "codemirror_mode": {
        "name": "ipython",
        "version": 3
      },
      "file_extension": ".py",
      "mimetype": "text/x-python",
      "name": "python",
      "nbconvert_exporter": "python",
      "pygments_lexer": "ipython3",
      "version": "3.6.8"
    },
    "colab": {
      "name": "Unsupervised_Learning_Algorithms.ipynb",
      "provenance": [],
      "toc_visible": true
    },
    "accelerator": "GPU"
  },
  "cells": [
    {
      "cell_type": "markdown",
      "metadata": {
        "id": "F3wMhpr435Kf",
        "colab_type": "text"
      },
      "source": [
        "# RFM\n",
        "## Recency - How recent the customer bought the goods\n",
        "## Frequency - How often customer buys\n",
        "## Monetary - How much money he spends usually i.e. his monetary value.\n",
        "\n",
        "RFM (Recency, Frequency, Monetary) analysis is a proven marketing model for behavior based customer segmentation. It groups customers based on their transaction history – how recently, how often and how much did they buy.\n",
        "\n",
        "RFM helps divide customers into various categories or clusters to identify customers who are more likely to respond to promotions and also for future personalization services.\n",
        "\n",
        "Various Combinations of the RFM scores can help us in customer segmentation and clustering them into different categories and thereby help the organiztion in optimally spending their resources to increase the sales\n",
        "\n",
        "For more details see this link : https://www.putler.com/rfm-analysis/"
      ]
    },
    {
      "cell_type": "code",
      "metadata": {
        "id": "5bYS80jnVQqM",
        "colab_type": "code",
        "colab": {}
      },
      "source": [
        "import pandas as pd\n",
        "import numpy as np\n",
        "import matplotlib.pyplot as plt\n",
        "import seaborn as sn\n",
        "%matplotlib inline"
      ],
      "execution_count": 3,
      "outputs": []
    },
    {
      "cell_type": "code",
      "metadata": {
        "id": "7uQVXf5VVqnT",
        "colab_type": "code",
        "colab": {
          "resources": {
            "http://localhost:8080/nbextensions/google.colab/files.js": {
              "data": "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",
              "ok": true,
              "headers": [
                [
                  "content-type",
                  "application/javascript"
                ]
              ],
              "status": 200,
              "status_text": ""
            }
          },
          "base_uri": "https://localhost:8080/",
          "height": 73
        },
        "outputId": "033790c2-fecb-4739-c87b-b85a3eb84349"
      },
      "source": [
        "from google.colab import files \n",
        "files.upload()"
      ],
      "execution_count": 1,
      "outputs": [
        {
          "output_type": "display_data",
          "data": {
            "text/html": [
              "\n",
              "     <input type=\"file\" id=\"files-3b0df478-10b3-4f8c-9eb6-5977d2b86d7c\" name=\"files[]\" multiple disabled\n",
              "        style=\"border:none\" />\n",
              "     <output id=\"result-3b0df478-10b3-4f8c-9eb6-5977d2b86d7c\">\n",
              "      Upload widget is only available when the cell has been executed in the\n",
              "      current browser session. Please rerun this cell to enable.\n",
              "      </output>\n",
              "      <script src=\"/nbextensions/google.colab/files.js\"></script> "
            ],
            "text/plain": [
              "<IPython.core.display.HTML object>"
            ]
          },
          "metadata": {
            "tags": []
          }
        },
        {
          "output_type": "stream",
          "text": [
            "Saving RFM_data.xlsx to RFM_data.xlsx\n"
          ],
          "name": "stdout"
        }
      ]
    },
    {
      "cell_type": "code",
      "metadata": {
        "id": "GRbUahKrVQqR",
        "colab_type": "code",
        "colab": {}
      },
      "source": [
        "data = pd.read_excel(\"RFM_data.xlsx\")\n"
      ],
      "execution_count": 4,
      "outputs": []
    },
    {
      "cell_type": "code",
      "metadata": {
        "id": "OskisFpzVcPw",
        "colab_type": "code",
        "colab": {
          "base_uri": "https://localhost:8080/",
          "height": 121
        },
        "outputId": "a8916f7a-65fb-4468-908c-c46619fcfae3"
      },
      "source": [
        "# Mound google drive \n",
        "# from google.colab import drive\n",
        "# drive.mount('/content/drive')"
      ],
      "execution_count": null,
      "outputs": [
        {
          "output_type": "stream",
          "text": [
            "Go to this URL in a browser: https://accounts.google.com/o/oauth2/auth?client_id=947318989803-6bn6qk8qdgf4n4g3pfee6491hc0brc4i.apps.googleusercontent.com&redirect_uri=urn%3Aietf%3Awg%3Aoauth%3A2.0%3Aoob&scope=email%20https%3A%2F%2Fwww.googleapis.com%2Fauth%2Fdocs.test%20https%3A%2F%2Fwww.googleapis.com%2Fauth%2Fdrive%20https%3A%2F%2Fwww.googleapis.com%2Fauth%2Fdrive.photos.readonly%20https%3A%2F%2Fwww.googleapis.com%2Fauth%2Fpeopleapi.readonly&response_type=code\n",
            "\n",
            "Enter your authorization code:\n",
            "··········\n",
            "Mounted at /content/drive\n"
          ],
          "name": "stdout"
        }
      ]
    },
    {
      "cell_type": "code",
      "metadata": {
        "id": "PLnT0f9LVQqV",
        "colab_type": "code",
        "colab": {
          "base_uri": "https://localhost:8080/",
          "height": 195
        },
        "outputId": "b09f7101-bccf-46e4-f674-811236c85ae0"
      },
      "source": [
        "data.head(5)"
      ],
      "execution_count": 5,
      "outputs": [
        {
          "output_type": "execute_result",
          "data": {
            "text/html": [
              "<div>\n",
              "<style scoped>\n",
              "    .dataframe tbody tr th:only-of-type {\n",
              "        vertical-align: middle;\n",
              "    }\n",
              "\n",
              "    .dataframe tbody tr th {\n",
              "        vertical-align: top;\n",
              "    }\n",
              "\n",
              "    .dataframe thead th {\n",
              "        text-align: right;\n",
              "    }\n",
              "</style>\n",
              "<table border=\"1\" class=\"dataframe\">\n",
              "  <thead>\n",
              "    <tr style=\"text-align: right;\">\n",
              "      <th></th>\n",
              "      <th>InvoiceNo</th>\n",
              "      <th>StockCode</th>\n",
              "      <th>Description</th>\n",
              "      <th>Quantity</th>\n",
              "      <th>InvoiceDate</th>\n",
              "      <th>UnitPrice</th>\n",
              "      <th>CustomerID</th>\n",
              "      <th>Country</th>\n",
              "    </tr>\n",
              "  </thead>\n",
              "  <tbody>\n",
              "    <tr>\n",
              "      <th>0</th>\n",
              "      <td>536365</td>\n",
              "      <td>85123A</td>\n",
              "      <td>WHITE HANGING HEART T-LIGHT HOLDER</td>\n",
              "      <td>6</td>\n",
              "      <td>2010-12-01 08:26:00</td>\n",
              "      <td>2.55</td>\n",
              "      <td>17850.0</td>\n",
              "      <td>United Kingdom</td>\n",
              "    </tr>\n",
              "    <tr>\n",
              "      <th>1</th>\n",
              "      <td>536365</td>\n",
              "      <td>71053</td>\n",
              "      <td>WHITE METAL LANTERN</td>\n",
              "      <td>6</td>\n",
              "      <td>2010-12-01 08:26:00</td>\n",
              "      <td>3.39</td>\n",
              "      <td>17850.0</td>\n",
              "      <td>United Kingdom</td>\n",
              "    </tr>\n",
              "    <tr>\n",
              "      <th>2</th>\n",
              "      <td>536365</td>\n",
              "      <td>84406B</td>\n",
              "      <td>CREAM CUPID HEARTS COAT HANGER</td>\n",
              "      <td>8</td>\n",
              "      <td>2010-12-01 08:26:00</td>\n",
              "      <td>2.75</td>\n",
              "      <td>17850.0</td>\n",
              "      <td>United Kingdom</td>\n",
              "    </tr>\n",
              "    <tr>\n",
              "      <th>3</th>\n",
              "      <td>536365</td>\n",
              "      <td>84029G</td>\n",
              "      <td>KNITTED UNION FLAG HOT WATER BOTTLE</td>\n",
              "      <td>6</td>\n",
              "      <td>2010-12-01 08:26:00</td>\n",
              "      <td>3.39</td>\n",
              "      <td>17850.0</td>\n",
              "      <td>United Kingdom</td>\n",
              "    </tr>\n",
              "    <tr>\n",
              "      <th>4</th>\n",
              "      <td>536365</td>\n",
              "      <td>84029E</td>\n",
              "      <td>RED WOOLLY HOTTIE WHITE HEART.</td>\n",
              "      <td>6</td>\n",
              "      <td>2010-12-01 08:26:00</td>\n",
              "      <td>3.39</td>\n",
              "      <td>17850.0</td>\n",
              "      <td>United Kingdom</td>\n",
              "    </tr>\n",
              "  </tbody>\n",
              "</table>\n",
              "</div>"
            ],
            "text/plain": [
              "  InvoiceNo StockCode  ... CustomerID         Country\n",
              "0    536365    85123A  ...    17850.0  United Kingdom\n",
              "1    536365     71053  ...    17850.0  United Kingdom\n",
              "2    536365    84406B  ...    17850.0  United Kingdom\n",
              "3    536365    84029G  ...    17850.0  United Kingdom\n",
              "4    536365    84029E  ...    17850.0  United Kingdom\n",
              "\n",
              "[5 rows x 8 columns]"
            ]
          },
          "metadata": {
            "tags": []
          },
          "execution_count": 5
        }
      ]
    },
    {
      "cell_type": "markdown",
      "metadata": {
        "id": "r31rgc72VQqb",
        "colab_type": "text"
      },
      "source": [
        "#### Convert the series invoice date data in datetime format and count the unique number of attributes"
      ]
    },
    {
      "cell_type": "code",
      "metadata": {
        "id": "W9UL_mc2VQqc",
        "colab_type": "code",
        "colab": {
          "base_uri": "https://localhost:8080/",
          "height": 168
        },
        "outputId": "032bb7df-eb4f-4149-a6a4-7d2db50bc9ec"
      },
      "source": [
        "#Convert the date in YYYY-mm-dd HH:MM format and store that date in 'Date' column\n",
        "data['Date']=pd.to_datetime(data['InvoiceDate'], format = '%Y-%m-%d %H:%M:%S')\n",
        "#data['Date']=data['Date'].apply(lambda x: x.strftime('%Y-%d-%m %H:%M'))\n",
        "\n",
        "# Count the unique no of attributes in Retail data\n",
        "def unique_counts(data):\n",
        "   for i in data.columns:\n",
        "       count = data[i].nunique()\n",
        "       print(i, \": \", count)\n",
        "unique_counts(data)\n"
      ],
      "execution_count": 6,
      "outputs": [
        {
          "output_type": "stream",
          "text": [
            "InvoiceNo :  25900\n",
            "StockCode :  4070\n",
            "Description :  4223\n",
            "Quantity :  722\n",
            "InvoiceDate :  23260\n",
            "UnitPrice :  1630\n",
            "CustomerID :  4372\n",
            "Country :  38\n",
            "Date :  23260\n"
          ],
          "name": "stdout"
        }
      ]
    },
    {
      "cell_type": "markdown",
      "metadata": {
        "id": "Ut6NJoW6VQqe",
        "colab_type": "text"
      },
      "source": [
        "#### Calculate Total Price by multiplying units and quantity and store that value in separate column Total_Price"
      ]
    },
    {
      "cell_type": "code",
      "metadata": {
        "id": "F8m5FLAzVQqf",
        "colab_type": "code",
        "colab": {
          "base_uri": "https://localhost:8080/",
          "height": 511
        },
        "outputId": "8784cbbf-5c0b-4a2f-ba18-614e15bbccd3"
      },
      "source": [
        "\n",
        "data['Total_Price']=data['Quantity']*data['UnitPrice']\n",
        "data.head(10)"
      ],
      "execution_count": 7,
      "outputs": [
        {
          "output_type": "execute_result",
          "data": {
            "text/html": [
              "<div>\n",
              "<style scoped>\n",
              "    .dataframe tbody tr th:only-of-type {\n",
              "        vertical-align: middle;\n",
              "    }\n",
              "\n",
              "    .dataframe tbody tr th {\n",
              "        vertical-align: top;\n",
              "    }\n",
              "\n",
              "    .dataframe thead th {\n",
              "        text-align: right;\n",
              "    }\n",
              "</style>\n",
              "<table border=\"1\" class=\"dataframe\">\n",
              "  <thead>\n",
              "    <tr style=\"text-align: right;\">\n",
              "      <th></th>\n",
              "      <th>InvoiceNo</th>\n",
              "      <th>StockCode</th>\n",
              "      <th>Description</th>\n",
              "      <th>Quantity</th>\n",
              "      <th>InvoiceDate</th>\n",
              "      <th>UnitPrice</th>\n",
              "      <th>CustomerID</th>\n",
              "      <th>Country</th>\n",
              "      <th>Date</th>\n",
              "      <th>Total_Price</th>\n",
              "    </tr>\n",
              "  </thead>\n",
              "  <tbody>\n",
              "    <tr>\n",
              "      <th>0</th>\n",
              "      <td>536365</td>\n",
              "      <td>85123A</td>\n",
              "      <td>WHITE HANGING HEART T-LIGHT HOLDER</td>\n",
              "      <td>6</td>\n",
              "      <td>2010-12-01 08:26:00</td>\n",
              "      <td>2.55</td>\n",
              "      <td>17850.0</td>\n",
              "      <td>United Kingdom</td>\n",
              "      <td>2010-12-01 08:26:00</td>\n",
              "      <td>15.30</td>\n",
              "    </tr>\n",
              "    <tr>\n",
              "      <th>1</th>\n",
              "      <td>536365</td>\n",
              "      <td>71053</td>\n",
              "      <td>WHITE METAL LANTERN</td>\n",
              "      <td>6</td>\n",
              "      <td>2010-12-01 08:26:00</td>\n",
              "      <td>3.39</td>\n",
              "      <td>17850.0</td>\n",
              "      <td>United Kingdom</td>\n",
              "      <td>2010-12-01 08:26:00</td>\n",
              "      <td>20.34</td>\n",
              "    </tr>\n",
              "    <tr>\n",
              "      <th>2</th>\n",
              "      <td>536365</td>\n",
              "      <td>84406B</td>\n",
              "      <td>CREAM CUPID HEARTS COAT HANGER</td>\n",
              "      <td>8</td>\n",
              "      <td>2010-12-01 08:26:00</td>\n",
              "      <td>2.75</td>\n",
              "      <td>17850.0</td>\n",
              "      <td>United Kingdom</td>\n",
              "      <td>2010-12-01 08:26:00</td>\n",
              "      <td>22.00</td>\n",
              "    </tr>\n",
              "    <tr>\n",
              "      <th>3</th>\n",
              "      <td>536365</td>\n",
              "      <td>84029G</td>\n",
              "      <td>KNITTED UNION FLAG HOT WATER BOTTLE</td>\n",
              "      <td>6</td>\n",
              "      <td>2010-12-01 08:26:00</td>\n",
              "      <td>3.39</td>\n",
              "      <td>17850.0</td>\n",
              "      <td>United Kingdom</td>\n",
              "      <td>2010-12-01 08:26:00</td>\n",
              "      <td>20.34</td>\n",
              "    </tr>\n",
              "    <tr>\n",
              "      <th>4</th>\n",
              "      <td>536365</td>\n",
              "      <td>84029E</td>\n",
              "      <td>RED WOOLLY HOTTIE WHITE HEART.</td>\n",
              "      <td>6</td>\n",
              "      <td>2010-12-01 08:26:00</td>\n",
              "      <td>3.39</td>\n",
              "      <td>17850.0</td>\n",
              "      <td>United Kingdom</td>\n",
              "      <td>2010-12-01 08:26:00</td>\n",
              "      <td>20.34</td>\n",
              "    </tr>\n",
              "    <tr>\n",
              "      <th>5</th>\n",
              "      <td>536365</td>\n",
              "      <td>22752</td>\n",
              "      <td>SET 7 BABUSHKA NESTING BOXES</td>\n",
              "      <td>2</td>\n",
              "      <td>2010-12-01 08:26:00</td>\n",
              "      <td>7.65</td>\n",
              "      <td>17850.0</td>\n",
              "      <td>United Kingdom</td>\n",
              "      <td>2010-12-01 08:26:00</td>\n",
              "      <td>15.30</td>\n",
              "    </tr>\n",
              "    <tr>\n",
              "      <th>6</th>\n",
              "      <td>536365</td>\n",
              "      <td>21730</td>\n",
              "      <td>GLASS STAR FROSTED T-LIGHT HOLDER</td>\n",
              "      <td>6</td>\n",
              "      <td>2010-12-01 08:26:00</td>\n",
              "      <td>4.25</td>\n",
              "      <td>17850.0</td>\n",
              "      <td>United Kingdom</td>\n",
              "      <td>2010-12-01 08:26:00</td>\n",
              "      <td>25.50</td>\n",
              "    </tr>\n",
              "    <tr>\n",
              "      <th>7</th>\n",
              "      <td>536366</td>\n",
              "      <td>22633</td>\n",
              "      <td>HAND WARMER UNION JACK</td>\n",
              "      <td>6</td>\n",
              "      <td>2010-12-01 08:28:00</td>\n",
              "      <td>1.85</td>\n",
              "      <td>17850.0</td>\n",
              "      <td>United Kingdom</td>\n",
              "      <td>2010-12-01 08:28:00</td>\n",
              "      <td>11.10</td>\n",
              "    </tr>\n",
              "    <tr>\n",
              "      <th>8</th>\n",
              "      <td>536366</td>\n",
              "      <td>22632</td>\n",
              "      <td>HAND WARMER RED POLKA DOT</td>\n",
              "      <td>6</td>\n",
              "      <td>2010-12-01 08:28:00</td>\n",
              "      <td>1.85</td>\n",
              "      <td>17850.0</td>\n",
              "      <td>United Kingdom</td>\n",
              "      <td>2010-12-01 08:28:00</td>\n",
              "      <td>11.10</td>\n",
              "    </tr>\n",
              "    <tr>\n",
              "      <th>9</th>\n",
              "      <td>536367</td>\n",
              "      <td>84879</td>\n",
              "      <td>ASSORTED COLOUR BIRD ORNAMENT</td>\n",
              "      <td>32</td>\n",
              "      <td>2010-12-01 08:34:00</td>\n",
              "      <td>1.69</td>\n",
              "      <td>13047.0</td>\n",
              "      <td>United Kingdom</td>\n",
              "      <td>2010-12-01 08:34:00</td>\n",
              "      <td>54.08</td>\n",
              "    </tr>\n",
              "  </tbody>\n",
              "</table>\n",
              "</div>"
            ],
            "text/plain": [
              "  InvoiceNo StockCode  ...                Date  Total_Price\n",
              "0    536365    85123A  ... 2010-12-01 08:26:00        15.30\n",
              "1    536365     71053  ... 2010-12-01 08:26:00        20.34\n",
              "2    536365    84406B  ... 2010-12-01 08:26:00        22.00\n",
              "3    536365    84029G  ... 2010-12-01 08:26:00        20.34\n",
              "4    536365    84029E  ... 2010-12-01 08:26:00        20.34\n",
              "5    536365     22752  ... 2010-12-01 08:26:00        15.30\n",
              "6    536365     21730  ... 2010-12-01 08:26:00        25.50\n",
              "7    536366     22633  ... 2010-12-01 08:28:00        11.10\n",
              "8    536366     22632  ... 2010-12-01 08:28:00        11.10\n",
              "9    536367     84879  ... 2010-12-01 08:34:00        54.08\n",
              "\n",
              "[10 rows x 10 columns]"
            ]
          },
          "metadata": {
            "tags": []
          },
          "execution_count": 7
        }
      ]
    },
    {
      "cell_type": "markdown",
      "metadata": {
        "id": "mwmHs2qiVQqi",
        "colab_type": "text"
      },
      "source": [
        "#### Only consider rows without NaN values and store the data in dataset data_rfm"
      ]
    },
    {
      "cell_type": "code",
      "metadata": {
        "id": "-mDUVYjVVQqk",
        "colab_type": "code",
        "colab": {}
      },
      "source": [
        "a=data['Quantity']\n"
      ],
      "execution_count": 8,
      "outputs": []
    },
    {
      "cell_type": "code",
      "metadata": {
        "id": "8UaBukVLVQqr",
        "colab_type": "code",
        "colab": {}
      },
      "source": [
        "\n",
        "data_rfm = data[np.isfinite(data['CustomerID'])]"
      ],
      "execution_count": 9,
      "outputs": []
    },
    {
      "cell_type": "markdown",
      "metadata": {
        "id": "mkPx2v0XVQqx",
        "colab_type": "text"
      },
      "source": [
        "\n",
        "#### Count the unique no of attributes in Retail data"
      ]
    },
    {
      "cell_type": "code",
      "metadata": {
        "id": "lxajm2_SVQqy",
        "colab_type": "code",
        "colab": {
          "base_uri": "https://localhost:8080/",
          "height": 185
        },
        "outputId": "64675e12-6b84-4874-e315-c7dca98a6331"
      },
      "source": [
        "\n",
        "unique_counts(data_rfm)"
      ],
      "execution_count": 10,
      "outputs": [
        {
          "output_type": "stream",
          "text": [
            "InvoiceNo :  22190\n",
            "StockCode :  3684\n",
            "Description :  3896\n",
            "Quantity :  436\n",
            "InvoiceDate :  20460\n",
            "UnitPrice :  620\n",
            "CustomerID :  4372\n",
            "Country :  37\n",
            "Date :  20460\n",
            "Total_Price :  4041\n"
          ],
          "name": "stdout"
        }
      ]
    },
    {
      "cell_type": "code",
      "metadata": {
        "id": "K5N9oDlkVQq4",
        "colab_type": "code",
        "colab": {}
      },
      "source": [
        "#For the sake of calculating recency and frequency, drop the rows with negative values of Quantity and store the data in final_df\n",
        "final_rfm = data_rfm[data_rfm['Quantity'] > 0]"
      ],
      "execution_count": 11,
      "outputs": []
    },
    {
      "cell_type": "code",
      "metadata": {
        "id": "nb8PsL7eVQq7",
        "colab_type": "code",
        "colab": {
          "base_uri": "https://localhost:8080/",
          "height": 34
        },
        "outputId": "a8ee5176-6a6b-4ebe-c19a-346c3ce74a06"
      },
      "source": [
        "final_rfm.shape"
      ],
      "execution_count": 12,
      "outputs": [
        {
          "output_type": "execute_result",
          "data": {
            "text/plain": [
              "(397924, 10)"
            ]
          },
          "metadata": {
            "tags": []
          },
          "execution_count": 12
        }
      ]
    },
    {
      "cell_type": "code",
      "metadata": {
        "id": "x2Un3pK8Z1sO",
        "colab_type": "code",
        "colab": {
          "base_uri": "https://localhost:8080/",
          "height": 34
        },
        "outputId": "572584a0-0a92-4363-9b44-af0f49adf428"
      },
      "source": [
        "any(final_rfm['Total_Price']<0)"
      ],
      "execution_count": 13,
      "outputs": [
        {
          "output_type": "execute_result",
          "data": {
            "text/plain": [
              "False"
            ]
          },
          "metadata": {
            "tags": []
          },
          "execution_count": 13
        }
      ]
    },
    {
      "cell_type": "code",
      "metadata": {
        "id": "F6qYrhdxVQq-",
        "colab_type": "code",
        "colab": {
          "base_uri": "https://localhost:8080/",
          "height": 185
        },
        "outputId": "c1171be5-94c9-4ed9-d11d-05227362b088"
      },
      "source": [
        "unique_counts(final_rfm)"
      ],
      "execution_count": 14,
      "outputs": [
        {
          "output_type": "stream",
          "text": [
            "InvoiceNo :  18536\n",
            "StockCode :  3665\n",
            "Description :  3877\n",
            "Quantity :  302\n",
            "InvoiceDate :  17286\n",
            "UnitPrice :  441\n",
            "CustomerID :  4339\n",
            "Country :  37\n",
            "Date :  17286\n",
            "Total_Price :  2940\n"
          ],
          "name": "stdout"
        }
      ]
    },
    {
      "cell_type": "code",
      "metadata": {
        "id": "zBWaBw4MVQrA",
        "colab_type": "code",
        "colab": {
          "base_uri": "https://localhost:8080/",
          "height": 34
        },
        "outputId": "22b8c8b2-0d7b-4c08-fa4b-ca834c9c7bd3"
      },
      "source": [
        "type(final_rfm['Date'].max())"
      ],
      "execution_count": 15,
      "outputs": [
        {
          "output_type": "execute_result",
          "data": {
            "text/plain": [
              "pandas._libs.tslibs.timestamps.Timestamp"
            ]
          },
          "metadata": {
            "tags": []
          },
          "execution_count": 15
        }
      ]
    },
    {
      "cell_type": "code",
      "metadata": {
        "id": "Ew6dqVipVQrD",
        "colab_type": "code",
        "colab": {
          "base_uri": "https://localhost:8080/",
          "height": 34
        },
        "outputId": "aa72329f-a415-4917-e225-3d6fdc944c12"
      },
      "source": [
        "final_rfm['Date'].min()"
      ],
      "execution_count": 16,
      "outputs": [
        {
          "output_type": "execute_result",
          "data": {
            "text/plain": [
              "Timestamp('2010-12-01 08:26:00')"
            ]
          },
          "metadata": {
            "tags": []
          },
          "execution_count": 16
        }
      ]
    },
    {
      "cell_type": "code",
      "metadata": {
        "id": "ufxtJxcGVQrH",
        "colab_type": "code",
        "colab": {}
      },
      "source": [
        "#Calculate recency and frequency\n",
        "import datetime as dt\n",
        "NOW = dt.datetime(2011,12,10)\n"
      ],
      "execution_count": 17,
      "outputs": []
    },
    {
      "cell_type": "code",
      "metadata": {
        "id": "arGHPl4xVQrJ",
        "colab_type": "code",
        "colab": {}
      },
      "source": [
        "rfmTable = final_rfm.groupby('CustomerID').agg({'Date': lambda x: (NOW - x.max()).days, 'InvoiceNo': lambda x: len(x),'Total_Price': lambda x: x.sum()})\n",
        "rfmTable['Date'] = rfmTable['Date'].astype(int)\n",
        "rfmTable.rename(columns={'Date': 'recency', \n",
        "                         'InvoiceNo': 'frequency',\n",
        "                       'Total_Price': 'monetary_value'}, inplace=True)"
      ],
      "execution_count": 18,
      "outputs": []
    },
    {
      "cell_type": "code",
      "metadata": {
        "id": "bFyzxkR_VQrO",
        "colab_type": "code",
        "colab": {
          "base_uri": "https://localhost:8080/",
          "height": 34
        },
        "outputId": "d29d47c9-c028-4714-8f09-b676885930f2"
      },
      "source": [
        "#rfmTable = pd.merge(mTable, rfTable, on=\"CustomerID\",how = 'inner')\n",
        "rfmTable.shape\n"
      ],
      "execution_count": 19,
      "outputs": [
        {
          "output_type": "execute_result",
          "data": {
            "text/plain": [
              "(4339, 3)"
            ]
          },
          "metadata": {
            "tags": []
          },
          "execution_count": 19
        }
      ]
    },
    {
      "cell_type": "code",
      "metadata": {
        "id": "bWwFdx_rVQrT",
        "colab_type": "code",
        "colab": {
          "base_uri": "https://localhost:8080/",
          "height": 373
        },
        "outputId": "04bfc86f-122c-446a-8c54-51a032457479"
      },
      "source": [
        "rfmTable.head(10)"
      ],
      "execution_count": 20,
      "outputs": [
        {
          "output_type": "execute_result",
          "data": {
            "text/html": [
              "<div>\n",
              "<style scoped>\n",
              "    .dataframe tbody tr th:only-of-type {\n",
              "        vertical-align: middle;\n",
              "    }\n",
              "\n",
              "    .dataframe tbody tr th {\n",
              "        vertical-align: top;\n",
              "    }\n",
              "\n",
              "    .dataframe thead th {\n",
              "        text-align: right;\n",
              "    }\n",
              "</style>\n",
              "<table border=\"1\" class=\"dataframe\">\n",
              "  <thead>\n",
              "    <tr style=\"text-align: right;\">\n",
              "      <th></th>\n",
              "      <th>recency</th>\n",
              "      <th>frequency</th>\n",
              "      <th>monetary_value</th>\n",
              "    </tr>\n",
              "    <tr>\n",
              "      <th>CustomerID</th>\n",
              "      <th></th>\n",
              "      <th></th>\n",
              "      <th></th>\n",
              "    </tr>\n",
              "  </thead>\n",
              "  <tbody>\n",
              "    <tr>\n",
              "      <th>12346.0</th>\n",
              "      <td>325</td>\n",
              "      <td>1</td>\n",
              "      <td>77183.60</td>\n",
              "    </tr>\n",
              "    <tr>\n",
              "      <th>12347.0</th>\n",
              "      <td>2</td>\n",
              "      <td>182</td>\n",
              "      <td>4310.00</td>\n",
              "    </tr>\n",
              "    <tr>\n",
              "      <th>12348.0</th>\n",
              "      <td>75</td>\n",
              "      <td>31</td>\n",
              "      <td>1797.24</td>\n",
              "    </tr>\n",
              "    <tr>\n",
              "      <th>12349.0</th>\n",
              "      <td>18</td>\n",
              "      <td>73</td>\n",
              "      <td>1757.55</td>\n",
              "    </tr>\n",
              "    <tr>\n",
              "      <th>12350.0</th>\n",
              "      <td>310</td>\n",
              "      <td>17</td>\n",
              "      <td>334.40</td>\n",
              "    </tr>\n",
              "    <tr>\n",
              "      <th>12352.0</th>\n",
              "      <td>36</td>\n",
              "      <td>85</td>\n",
              "      <td>2506.04</td>\n",
              "    </tr>\n",
              "    <tr>\n",
              "      <th>12353.0</th>\n",
              "      <td>204</td>\n",
              "      <td>4</td>\n",
              "      <td>89.00</td>\n",
              "    </tr>\n",
              "    <tr>\n",
              "      <th>12354.0</th>\n",
              "      <td>232</td>\n",
              "      <td>58</td>\n",
              "      <td>1079.40</td>\n",
              "    </tr>\n",
              "    <tr>\n",
              "      <th>12355.0</th>\n",
              "      <td>214</td>\n",
              "      <td>13</td>\n",
              "      <td>459.40</td>\n",
              "    </tr>\n",
              "    <tr>\n",
              "      <th>12356.0</th>\n",
              "      <td>22</td>\n",
              "      <td>59</td>\n",
              "      <td>2811.43</td>\n",
              "    </tr>\n",
              "  </tbody>\n",
              "</table>\n",
              "</div>"
            ],
            "text/plain": [
              "            recency  frequency  monetary_value\n",
              "CustomerID                                    \n",
              "12346.0         325          1        77183.60\n",
              "12347.0           2        182         4310.00\n",
              "12348.0          75         31         1797.24\n",
              "12349.0          18         73         1757.55\n",
              "12350.0         310         17          334.40\n",
              "12352.0          36         85         2506.04\n",
              "12353.0         204          4           89.00\n",
              "12354.0         232         58         1079.40\n",
              "12355.0         214         13          459.40\n",
              "12356.0          22         59         2811.43"
            ]
          },
          "metadata": {
            "tags": []
          },
          "execution_count": 20
        }
      ]
    },
    {
      "cell_type": "markdown",
      "metadata": {
        "id": "B_jJO4QoVQru",
        "colab_type": "text"
      },
      "source": [
        "#### Seggregate the brands into 3 segments"
      ]
    },
    {
      "cell_type": "markdown",
      "metadata": {
        "id": "tcry-B7pVQru",
        "colab_type": "text"
      },
      "source": [
        "### Normalising the features"
      ]
    },
    {
      "cell_type": "code",
      "metadata": {
        "id": "yNRQ_-YYVQrv",
        "colab_type": "code",
        "colab": {}
      },
      "source": [
        "from sklearn.cluster import KMeans\n",
        "from sklearn.preprocessing import StandardScaler\n",
        "scaler = StandardScaler()\n",
        "X_scaled = scaler.fit_transform( rfmTable )"
      ],
      "execution_count": 21,
      "outputs": []
    },
    {
      "cell_type": "code",
      "metadata": {
        "id": "f-DY6AFfVQry",
        "colab_type": "code",
        "colab": {
          "base_uri": "https://localhost:8080/",
          "height": 67
        },
        "outputId": "1747c874-1988-42c4-b0f9-aecd4afddc2a"
      },
      "source": [
        "clusters = KMeans(3)  # 3 clusters\n",
        "clusters.fit( X_scaled )"
      ],
      "execution_count": 22,
      "outputs": [
        {
          "output_type": "execute_result",
          "data": {
            "text/plain": [
              "KMeans(algorithm='auto', copy_x=True, init='k-means++', max_iter=300,\n",
              "       n_clusters=3, n_init=10, n_jobs=None, precompute_distances='auto',\n",
              "       random_state=None, tol=0.0001, verbose=0)"
            ]
          },
          "metadata": {
            "tags": []
          },
          "execution_count": 22
        }
      ]
    },
    {
      "cell_type": "code",
      "metadata": {
        "id": "8yjGJE9HVQr0",
        "colab_type": "code",
        "colab": {}
      },
      "source": [
        "import random\n",
        "random.seed(1)\n",
        "X_sample = np.array(random.sample(X_scaled.tolist(),20))\n"
      ],
      "execution_count": 23,
      "outputs": []
    },
    {
      "cell_type": "code",
      "metadata": {
        "id": "GW08gUj-VQr7",
        "colab_type": "code",
        "colab": {}
      },
      "source": [
        "rfmTable[\"cluster_new\"] = clusters.labels_"
      ],
      "execution_count": 24,
      "outputs": []
    },
    {
      "cell_type": "code",
      "metadata": {
        "id": "UXVIIss1VQsA",
        "colab_type": "code",
        "colab": {
          "base_uri": "https://localhost:8080/",
          "height": 34
        },
        "outputId": "a01df274-a021-4639-b4fb-620b7244d645"
      },
      "source": [
        "rfmTable\n",
        "type(X_scaled)"
      ],
      "execution_count": 25,
      "outputs": [
        {
          "output_type": "execute_result",
          "data": {
            "text/plain": [
              "numpy.ndarray"
            ]
          },
          "metadata": {
            "tags": []
          },
          "execution_count": 25
        }
      ]
    },
    {
      "cell_type": "code",
      "metadata": {
        "id": "fXiybBMrVQsD",
        "colab_type": "code",
        "colab": {
          "base_uri": "https://localhost:8080/",
          "height": 166
        },
        "outputId": "cfae57b9-4af0-427c-ab3e-5550075ccdc6"
      },
      "source": [
        "rfmTable.groupby('cluster_new' ).mean()"
      ],
      "execution_count": 26,
      "outputs": [
        {
          "output_type": "execute_result",
          "data": {
            "text/html": [
              "<div>\n",
              "<style scoped>\n",
              "    .dataframe tbody tr th:only-of-type {\n",
              "        vertical-align: middle;\n",
              "    }\n",
              "\n",
              "    .dataframe tbody tr th {\n",
              "        vertical-align: top;\n",
              "    }\n",
              "\n",
              "    .dataframe thead th {\n",
              "        text-align: right;\n",
              "    }\n",
              "</style>\n",
              "<table border=\"1\" class=\"dataframe\">\n",
              "  <thead>\n",
              "    <tr style=\"text-align: right;\">\n",
              "      <th></th>\n",
              "      <th>recency</th>\n",
              "      <th>frequency</th>\n",
              "      <th>monetary_value</th>\n",
              "    </tr>\n",
              "    <tr>\n",
              "      <th>cluster_new</th>\n",
              "      <th></th>\n",
              "      <th></th>\n",
              "      <th></th>\n",
              "    </tr>\n",
              "  </thead>\n",
              "  <tbody>\n",
              "    <tr>\n",
              "      <th>0</th>\n",
              "      <td>40.898644</td>\n",
              "      <td>103.079174</td>\n",
              "      <td>2028.480799</td>\n",
              "    </tr>\n",
              "    <tr>\n",
              "      <th>1</th>\n",
              "      <td>4.000000</td>\n",
              "      <td>2566.000000</td>\n",
              "      <td>126118.310000</td>\n",
              "    </tr>\n",
              "    <tr>\n",
              "      <th>2</th>\n",
              "      <td>246.813889</td>\n",
              "      <td>27.750926</td>\n",
              "      <td>636.501112</td>\n",
              "    </tr>\n",
              "  </tbody>\n",
              "</table>\n",
              "</div>"
            ],
            "text/plain": [
              "                recency    frequency  monetary_value\n",
              "cluster_new                                         \n",
              "0             40.898644   103.079174     2028.480799\n",
              "1              4.000000  2566.000000   126118.310000\n",
              "2            246.813889    27.750926      636.501112"
            ]
          },
          "metadata": {
            "tags": []
          },
          "execution_count": 26
        }
      ]
    },
    {
      "cell_type": "code",
      "metadata": {
        "id": "TPfUCyyyVQsH",
        "colab_type": "code",
        "colab": {}
      },
      "source": [
        "#Dendogram built with random samples from X_scaled"
      ],
      "execution_count": 27,
      "outputs": []
    },
    {
      "cell_type": "code",
      "metadata": {
        "id": "muRGbeAPVQsL",
        "colab_type": "code",
        "colab": {}
      },
      "source": [
        "rfmTable.drop( 'cluster_new', axis = 1, inplace = True )"
      ],
      "execution_count": 28,
      "outputs": []
    },
    {
      "cell_type": "code",
      "metadata": {
        "id": "n7KsRs6YVQsQ",
        "colab_type": "code",
        "colab": {
          "base_uri": "https://localhost:8080/",
          "height": 729
        },
        "outputId": "9a117def-86f6-486b-ead4-3aa0e3482c3b"
      },
      "source": [
        "cmap = sn.cubehelix_palette(as_cmap=True, rot=-.3, light=1)\n",
        "g = sn.clustermap(X_sample, cmap=cmap, linewidths=.5)\n"
      ],
      "execution_count": 29,
      "outputs": [
        {
          "output_type": "display_data",
          "data": {
            "image/png": "[encoded data removed]",
            "text/plain": [
              "<Figure size 720x720 with 4 Axes>"
            ]
          },
          "metadata": {
            "tags": [],
            "needs_background": "light"
          }
        }
      ]
    },
    {
      "cell_type": "code",
      "metadata": {
        "id": "DPMpRQEYVQsU",
        "colab_type": "code",
        "colab": {
          "base_uri": "https://localhost:8080/",
          "height": 729
        },
        "outputId": "4e3f1fb8-7992-4117-fc20-044dc26e2d27"
      },
      "source": [
        "#Lets take one more sample to validate dendogram\n",
        "random.seed(1)\n",
        "X_sample = np.array(random.sample(X_scaled.tolist(),30))\n",
        "cmap = sn.cubehelix_palette(as_cmap=True, rot=-.3, light=1)\n",
        "g = sn.clustermap(X_sample, cmap=cmap, linewidths=.5)"
      ],
      "execution_count": 30,
      "outputs": [
        {
          "output_type": "display_data",
          "data": {
            "image/png": "[encoded data removed]",
            "text/plain": [
              "<Figure size 720x720 with 4 Axes>"
            ]
          },
          "metadata": {
            "tags": [],
            "needs_background": "light"
          }
        }
      ]
    },
    {
      "cell_type": "markdown",
      "metadata": {
        "id": "d8cu9OAiVQsY",
        "colab_type": "text"
      },
      "source": [
        "### Consider Elbow method to verify the cluster segmentation"
      ]
    },
    {
      "cell_type": "code",
      "metadata": {
        "id": "6c1MFAJgVQsZ",
        "colab_type": "code",
        "colab": {}
      },
      "source": [
        "cluster_range = range( 1, 10 )\n",
        "cluster_errors = []\n",
        "\n",
        "for num_clusters in cluster_range:\n",
        "  clusters = KMeans( num_clusters )\n",
        "  clusters.fit( X_scaled )\n",
        "  cluster_errors.append( clusters.inertia_ )"
      ],
      "execution_count": 31,
      "outputs": []
    },
    {
      "cell_type": "code",
      "metadata": {
        "id": "AaFcExkOVQsd",
        "colab_type": "code",
        "colab": {}
      },
      "source": [
        "clusters_df = pd.DataFrame( { \"num_clusters\":cluster_range, \"cluster_errors\": cluster_errors } )"
      ],
      "execution_count": 32,
      "outputs": []
    },
    {
      "cell_type": "code",
      "metadata": {
        "id": "1UHCfT9eVQsg",
        "colab_type": "code",
        "colab": {
          "base_uri": "https://localhost:8080/",
          "height": 314
        },
        "outputId": "1e6778c0-4aed-481d-b668-237f3d3ae3b8"
      },
      "source": [
        "\n",
        "clusters_df.head(10)"
      ],
      "execution_count": 33,
      "outputs": [
        {
          "output_type": "execute_result",
          "data": {
            "text/html": [
              "<div>\n",
              "<style scoped>\n",
              "    .dataframe tbody tr th:only-of-type {\n",
              "        vertical-align: middle;\n",
              "    }\n",
              "\n",
              "    .dataframe tbody tr th {\n",
              "        vertical-align: top;\n",
              "    }\n",
              "\n",
              "    .dataframe thead th {\n",
              "        text-align: right;\n",
              "    }\n",
              "</style>\n",
              "<table border=\"1\" class=\"dataframe\">\n",
              "  <thead>\n",
              "    <tr style=\"text-align: right;\">\n",
              "      <th></th>\n",
              "      <th>num_clusters</th>\n",
              "      <th>cluster_errors</th>\n",
              "    </tr>\n",
              "  </thead>\n",
              "  <tbody>\n",
              "    <tr>\n",
              "      <th>0</th>\n",
              "      <td>1</td>\n",
              "      <td>13017.000000</td>\n",
              "    </tr>\n",
              "    <tr>\n",
              "      <th>1</th>\n",
              "      <td>2</td>\n",
              "      <td>8996.762762</td>\n",
              "    </tr>\n",
              "    <tr>\n",
              "      <th>2</th>\n",
              "      <td>3</td>\n",
              "      <td>5453.122485</td>\n",
              "    </tr>\n",
              "    <tr>\n",
              "      <th>3</th>\n",
              "      <td>4</td>\n",
              "      <td>4000.648983</td>\n",
              "    </tr>\n",
              "    <tr>\n",
              "      <th>4</th>\n",
              "      <td>5</td>\n",
              "      <td>2958.445965</td>\n",
              "    </tr>\n",
              "    <tr>\n",
              "      <th>5</th>\n",
              "      <td>6</td>\n",
              "      <td>2371.441752</td>\n",
              "    </tr>\n",
              "    <tr>\n",
              "      <th>6</th>\n",
              "      <td>7</td>\n",
              "      <td>1923.447065</td>\n",
              "    </tr>\n",
              "    <tr>\n",
              "      <th>7</th>\n",
              "      <td>8</td>\n",
              "      <td>1675.003344</td>\n",
              "    </tr>\n",
              "    <tr>\n",
              "      <th>8</th>\n",
              "      <td>9</td>\n",
              "      <td>1553.761663</td>\n",
              "    </tr>\n",
              "  </tbody>\n",
              "</table>\n",
              "</div>"
            ],
            "text/plain": [
              "   num_clusters  cluster_errors\n",
              "0             1    13017.000000\n",
              "1             2     8996.762762\n",
              "2             3     5453.122485\n",
              "3             4     4000.648983\n",
              "4             5     2958.445965\n",
              "5             6     2371.441752\n",
              "6             7     1923.447065\n",
              "7             8     1675.003344\n",
              "8             9     1553.761663"
            ]
          },
          "metadata": {
            "tags": []
          },
          "execution_count": 33
        }
      ]
    },
    {
      "cell_type": "code",
      "metadata": {
        "id": "cKWoNn2dVQsl",
        "colab_type": "code",
        "colab": {
          "base_uri": "https://localhost:8080/",
          "height": 391
        },
        "outputId": "532dcbcd-5bac-46dd-9dc4-5b2cecfd9f8c"
      },
      "source": [
        "import matplotlib.pyplot as plt\n",
        "plt.figure(figsize=(12,6))\n",
        "plt.plot( clusters_df.num_clusters, clusters_df.cluster_errors, marker = \"o\" )"
      ],
      "execution_count": 34,
      "outputs": [
        {
          "output_type": "execute_result",
          "data": {
            "text/plain": [
              "[<matplotlib.lines.Line2D at 0x7f0cd0b59f28>]"
            ]
          },
          "metadata": {
            "tags": []
          },
          "execution_count": 34
        },
        {
          "output_type": "display_data",
          "data": {
            "image/png": "[encoded data removed]",
            "text/plain": [
              "<Figure size 864x432 with 1 Axes>"
            ]
          },
          "metadata": {
            "tags": [],
            "needs_background": "light"
          }
        }
      ]
    },
    {
      "cell_type": "code",
      "metadata": {
        "id": "bgpBfzUjVQsp",
        "colab_type": "code",
        "colab": {}
      },
      "source": [
        "clusters = KMeans(3)  # 3 clusters\n",
        "clusters.fit( X_scaled )\n",
        "rfmTable[\"cluster_label\"] = clusters.labels_"
      ],
      "execution_count": 35,
      "outputs": []
    },
    {
      "cell_type": "code",
      "metadata": {
        "id": "BzVRborXVQss",
        "colab_type": "code",
        "colab": {
          "base_uri": "https://localhost:8080/",
          "height": 166
        },
        "outputId": "97d517d5-a362-4a9a-af56-82eaa4be31e1"
      },
      "source": [
        "rfmTable.groupby('cluster_label').mean()"
      ],
      "execution_count": 36,
      "outputs": [
        {
          "output_type": "execute_result",
          "data": {
            "text/html": [
              "<div>\n",
              "<style scoped>\n",
              "    .dataframe tbody tr th:only-of-type {\n",
              "        vertical-align: middle;\n",
              "    }\n",
              "\n",
              "    .dataframe tbody tr th {\n",
              "        vertical-align: top;\n",
              "    }\n",
              "\n",
              "    .dataframe thead th {\n",
              "        text-align: right;\n",
              "    }\n",
              "</style>\n",
              "<table border=\"1\" class=\"dataframe\">\n",
              "  <thead>\n",
              "    <tr style=\"text-align: right;\">\n",
              "      <th></th>\n",
              "      <th>recency</th>\n",
              "      <th>frequency</th>\n",
              "      <th>monetary_value</th>\n",
              "    </tr>\n",
              "    <tr>\n",
              "      <th>cluster_label</th>\n",
              "      <th></th>\n",
              "      <th></th>\n",
              "      <th></th>\n",
              "    </tr>\n",
              "  </thead>\n",
              "  <tbody>\n",
              "    <tr>\n",
              "      <th>0</th>\n",
              "      <td>246.813889</td>\n",
              "      <td>27.750926</td>\n",
              "      <td>636.501112</td>\n",
              "    </tr>\n",
              "    <tr>\n",
              "      <th>1</th>\n",
              "      <td>40.898644</td>\n",
              "      <td>103.079174</td>\n",
              "      <td>2028.480799</td>\n",
              "    </tr>\n",
              "    <tr>\n",
              "      <th>2</th>\n",
              "      <td>4.000000</td>\n",
              "      <td>2566.000000</td>\n",
              "      <td>126118.310000</td>\n",
              "    </tr>\n",
              "  </tbody>\n",
              "</table>\n",
              "</div>"
            ],
            "text/plain": [
              "                  recency    frequency  monetary_value\n",
              "cluster_label                                         \n",
              "0              246.813889    27.750926      636.501112\n",
              "1               40.898644   103.079174     2028.480799\n",
              "2                4.000000  2566.000000   126118.310000"
            ]
          },
          "metadata": {
            "tags": []
          },
          "execution_count": 36
        }
      ]
    },
    {
      "cell_type": "code",
      "metadata": {
        "id": "tGlpkDdQVQsx",
        "colab_type": "code",
        "colab": {}
      },
      "source": [
        "rfmTable_0 = rfmTable[rfmTable.cluster_label == 0]"
      ],
      "execution_count": 37,
      "outputs": []
    },
    {
      "cell_type": "code",
      "metadata": {
        "id": "XFW_WRWJVQs2",
        "colab_type": "code",
        "colab": {
          "base_uri": "https://localhost:8080/",
          "height": 373
        },
        "outputId": "32cc4dcf-d654-443b-f5e5-00b28207e737"
      },
      "source": [
        "rfmTable_0.head(10)"
      ],
      "execution_count": 38,
      "outputs": [
        {
          "output_type": "execute_result",
          "data": {
            "text/html": [
              "<div>\n",
              "<style scoped>\n",
              "    .dataframe tbody tr th:only-of-type {\n",
              "        vertical-align: middle;\n",
              "    }\n",
              "\n",
              "    .dataframe tbody tr th {\n",
              "        vertical-align: top;\n",
              "    }\n",
              "\n",
              "    .dataframe thead th {\n",
              "        text-align: right;\n",
              "    }\n",
              "</style>\n",
              "<table border=\"1\" class=\"dataframe\">\n",
              "  <thead>\n",
              "    <tr style=\"text-align: right;\">\n",
              "      <th></th>\n",
              "      <th>recency</th>\n",
              "      <th>frequency</th>\n",
              "      <th>monetary_value</th>\n",
              "      <th>cluster_label</th>\n",
              "    </tr>\n",
              "    <tr>\n",
              "      <th>CustomerID</th>\n",
              "      <th></th>\n",
              "      <th></th>\n",
              "      <th></th>\n",
              "      <th></th>\n",
              "    </tr>\n",
              "  </thead>\n",
              "  <tbody>\n",
              "    <tr>\n",
              "      <th>12346.0</th>\n",
              "      <td>325</td>\n",
              "      <td>1</td>\n",
              "      <td>77183.60</td>\n",
              "      <td>0</td>\n",
              "    </tr>\n",
              "    <tr>\n",
              "      <th>12350.0</th>\n",
              "      <td>310</td>\n",
              "      <td>17</td>\n",
              "      <td>334.40</td>\n",
              "      <td>0</td>\n",
              "    </tr>\n",
              "    <tr>\n",
              "      <th>12353.0</th>\n",
              "      <td>204</td>\n",
              "      <td>4</td>\n",
              "      <td>89.00</td>\n",
              "      <td>0</td>\n",
              "    </tr>\n",
              "    <tr>\n",
              "      <th>12354.0</th>\n",
              "      <td>232</td>\n",
              "      <td>58</td>\n",
              "      <td>1079.40</td>\n",
              "      <td>0</td>\n",
              "    </tr>\n",
              "    <tr>\n",
              "      <th>12355.0</th>\n",
              "      <td>214</td>\n",
              "      <td>13</td>\n",
              "      <td>459.40</td>\n",
              "      <td>0</td>\n",
              "    </tr>\n",
              "    <tr>\n",
              "      <th>12361.0</th>\n",
              "      <td>287</td>\n",
              "      <td>10</td>\n",
              "      <td>189.90</td>\n",
              "      <td>0</td>\n",
              "    </tr>\n",
              "    <tr>\n",
              "      <th>12365.0</th>\n",
              "      <td>291</td>\n",
              "      <td>22</td>\n",
              "      <td>641.38</td>\n",
              "      <td>0</td>\n",
              "    </tr>\n",
              "    <tr>\n",
              "      <th>12373.0</th>\n",
              "      <td>311</td>\n",
              "      <td>14</td>\n",
              "      <td>364.60</td>\n",
              "      <td>0</td>\n",
              "    </tr>\n",
              "    <tr>\n",
              "      <th>12377.0</th>\n",
              "      <td>315</td>\n",
              "      <td>77</td>\n",
              "      <td>1628.12</td>\n",
              "      <td>0</td>\n",
              "    </tr>\n",
              "    <tr>\n",
              "      <th>12383.0</th>\n",
              "      <td>184</td>\n",
              "      <td>99</td>\n",
              "      <td>1850.56</td>\n",
              "      <td>0</td>\n",
              "    </tr>\n",
              "  </tbody>\n",
              "</table>\n",
              "</div>"
            ],
            "text/plain": [
              "            recency  frequency  monetary_value  cluster_label\n",
              "CustomerID                                                   \n",
              "12346.0         325          1        77183.60              0\n",
              "12350.0         310         17          334.40              0\n",
              "12353.0         204          4           89.00              0\n",
              "12354.0         232         58         1079.40              0\n",
              "12355.0         214         13          459.40              0\n",
              "12361.0         287         10          189.90              0\n",
              "12365.0         291         22          641.38              0\n",
              "12373.0         311         14          364.60              0\n",
              "12377.0         315         77         1628.12              0\n",
              "12383.0         184         99         1850.56              0"
            ]
          },
          "metadata": {
            "tags": []
          },
          "execution_count": 38
        }
      ]
    },
    {
      "cell_type": "code",
      "metadata": {
        "id": "Rh__lCMTnP0T",
        "colab_type": "code",
        "colab": {
          "base_uri": "https://localhost:8080/",
          "height": 34
        },
        "outputId": "5cfd4fa9-76fb-45fb-bef1-244a60734129"
      },
      "source": [
        "rfmTable_0.shape"
      ],
      "execution_count": 39,
      "outputs": [
        {
          "output_type": "execute_result",
          "data": {
            "text/plain": [
              "(1080, 4)"
            ]
          },
          "metadata": {
            "tags": []
          },
          "execution_count": 39
        }
      ]
    },
    {
      "cell_type": "code",
      "metadata": {
        "id": "mS4DUXh9VQs7",
        "colab_type": "code",
        "colab": {
          "base_uri": "https://localhost:8080/",
          "height": 373
        },
        "outputId": "f2f65382-9cb7-415f-8bc9-50f7b9bf2e91"
      },
      "source": [
        "rfmTable_1 = rfmTable[rfmTable.cluster_label == 1]\n",
        "rfmTable_1.head(10)"
      ],
      "execution_count": 40,
      "outputs": [
        {
          "output_type": "execute_result",
          "data": {
            "text/html": [
              "<div>\n",
              "<style scoped>\n",
              "    .dataframe tbody tr th:only-of-type {\n",
              "        vertical-align: middle;\n",
              "    }\n",
              "\n",
              "    .dataframe tbody tr th {\n",
              "        vertical-align: top;\n",
              "    }\n",
              "\n",
              "    .dataframe thead th {\n",
              "        text-align: right;\n",
              "    }\n",
              "</style>\n",
              "<table border=\"1\" class=\"dataframe\">\n",
              "  <thead>\n",
              "    <tr style=\"text-align: right;\">\n",
              "      <th></th>\n",
              "      <th>recency</th>\n",
              "      <th>frequency</th>\n",
              "      <th>monetary_value</th>\n",
              "      <th>cluster_label</th>\n",
              "    </tr>\n",
              "    <tr>\n",
              "      <th>CustomerID</th>\n",
              "      <th></th>\n",
              "      <th></th>\n",
              "      <th></th>\n",
              "      <th></th>\n",
              "    </tr>\n",
              "  </thead>\n",
              "  <tbody>\n",
              "    <tr>\n",
              "      <th>12347.0</th>\n",
              "      <td>2</td>\n",
              "      <td>182</td>\n",
              "      <td>4310.00</td>\n",
              "      <td>1</td>\n",
              "    </tr>\n",
              "    <tr>\n",
              "      <th>12348.0</th>\n",
              "      <td>75</td>\n",
              "      <td>31</td>\n",
              "      <td>1797.24</td>\n",
              "      <td>1</td>\n",
              "    </tr>\n",
              "    <tr>\n",
              "      <th>12349.0</th>\n",
              "      <td>18</td>\n",
              "      <td>73</td>\n",
              "      <td>1757.55</td>\n",
              "      <td>1</td>\n",
              "    </tr>\n",
              "    <tr>\n",
              "      <th>12352.0</th>\n",
              "      <td>36</td>\n",
              "      <td>85</td>\n",
              "      <td>2506.04</td>\n",
              "      <td>1</td>\n",
              "    </tr>\n",
              "    <tr>\n",
              "      <th>12356.0</th>\n",
              "      <td>22</td>\n",
              "      <td>59</td>\n",
              "      <td>2811.43</td>\n",
              "      <td>1</td>\n",
              "    </tr>\n",
              "    <tr>\n",
              "      <th>12357.0</th>\n",
              "      <td>33</td>\n",
              "      <td>131</td>\n",
              "      <td>6207.67</td>\n",
              "      <td>1</td>\n",
              "    </tr>\n",
              "    <tr>\n",
              "      <th>12358.0</th>\n",
              "      <td>1</td>\n",
              "      <td>19</td>\n",
              "      <td>1168.06</td>\n",
              "      <td>1</td>\n",
              "    </tr>\n",
              "    <tr>\n",
              "      <th>12359.0</th>\n",
              "      <td>57</td>\n",
              "      <td>248</td>\n",
              "      <td>6372.58</td>\n",
              "      <td>1</td>\n",
              "    </tr>\n",
              "    <tr>\n",
              "      <th>12360.0</th>\n",
              "      <td>52</td>\n",
              "      <td>129</td>\n",
              "      <td>2662.06</td>\n",
              "      <td>1</td>\n",
              "    </tr>\n",
              "    <tr>\n",
              "      <th>12362.0</th>\n",
              "      <td>3</td>\n",
              "      <td>266</td>\n",
              "      <td>5226.23</td>\n",
              "      <td>1</td>\n",
              "    </tr>\n",
              "  </tbody>\n",
              "</table>\n",
              "</div>"
            ],
            "text/plain": [
              "            recency  frequency  monetary_value  cluster_label\n",
              "CustomerID                                                   \n",
              "12347.0           2        182         4310.00              1\n",
              "12348.0          75         31         1797.24              1\n",
              "12349.0          18         73         1757.55              1\n",
              "12352.0          36         85         2506.04              1\n",
              "12356.0          22         59         2811.43              1\n",
              "12357.0          33        131         6207.67              1\n",
              "12358.0           1         19         1168.06              1\n",
              "12359.0          57        248         6372.58              1\n",
              "12360.0          52        129         2662.06              1\n",
              "12362.0           3        266         5226.23              1"
            ]
          },
          "metadata": {
            "tags": []
          },
          "execution_count": 40
        }
      ]
    },
    {
      "cell_type": "code",
      "metadata": {
        "id": "w0alDjPBnTi9",
        "colab_type": "code",
        "colab": {
          "base_uri": "https://localhost:8080/",
          "height": 34
        },
        "outputId": "ee815da4-7393-4e6b-b9cf-a238b0b61a29"
      },
      "source": [
        "rfmTable_1.shape"
      ],
      "execution_count": 41,
      "outputs": [
        {
          "output_type": "execute_result",
          "data": {
            "text/plain": [
              "(3246, 4)"
            ]
          },
          "metadata": {
            "tags": []
          },
          "execution_count": 41
        }
      ]
    },
    {
      "cell_type": "code",
      "metadata": {
        "id": "hWlzgpM1VQtB",
        "colab_type": "code",
        "colab": {
          "base_uri": "https://localhost:8080/",
          "height": 373
        },
        "outputId": "3fe9522d-0054-44fa-bda5-670e1d69669a"
      },
      "source": [
        "rfmTable_2 = rfmTable[rfmTable.cluster_label == 2]\n",
        "rfmTable_2.head(10)"
      ],
      "execution_count": 42,
      "outputs": [
        {
          "output_type": "execute_result",
          "data": {
            "text/html": [
              "<div>\n",
              "<style scoped>\n",
              "    .dataframe tbody tr th:only-of-type {\n",
              "        vertical-align: middle;\n",
              "    }\n",
              "\n",
              "    .dataframe tbody tr th {\n",
              "        vertical-align: top;\n",
              "    }\n",
              "\n",
              "    .dataframe thead th {\n",
              "        text-align: right;\n",
              "    }\n",
              "</style>\n",
              "<table border=\"1\" class=\"dataframe\">\n",
              "  <thead>\n",
              "    <tr style=\"text-align: right;\">\n",
              "      <th></th>\n",
              "      <th>recency</th>\n",
              "      <th>frequency</th>\n",
              "      <th>monetary_value</th>\n",
              "      <th>cluster_label</th>\n",
              "    </tr>\n",
              "    <tr>\n",
              "      <th>CustomerID</th>\n",
              "      <th></th>\n",
              "      <th></th>\n",
              "      <th></th>\n",
              "      <th></th>\n",
              "    </tr>\n",
              "  </thead>\n",
              "  <tbody>\n",
              "    <tr>\n",
              "      <th>12415.0</th>\n",
              "      <td>24</td>\n",
              "      <td>716</td>\n",
              "      <td>124914.53</td>\n",
              "      <td>2</td>\n",
              "    </tr>\n",
              "    <tr>\n",
              "      <th>12748.0</th>\n",
              "      <td>0</td>\n",
              "      <td>4596</td>\n",
              "      <td>33719.73</td>\n",
              "      <td>2</td>\n",
              "    </tr>\n",
              "    <tr>\n",
              "      <th>13089.0</th>\n",
              "      <td>2</td>\n",
              "      <td>1818</td>\n",
              "      <td>58825.83</td>\n",
              "      <td>2</td>\n",
              "    </tr>\n",
              "    <tr>\n",
              "      <th>14096.0</th>\n",
              "      <td>4</td>\n",
              "      <td>5111</td>\n",
              "      <td>65164.79</td>\n",
              "      <td>2</td>\n",
              "    </tr>\n",
              "    <tr>\n",
              "      <th>14156.0</th>\n",
              "      <td>9</td>\n",
              "      <td>1400</td>\n",
              "      <td>117379.63</td>\n",
              "      <td>2</td>\n",
              "    </tr>\n",
              "    <tr>\n",
              "      <th>14646.0</th>\n",
              "      <td>1</td>\n",
              "      <td>2080</td>\n",
              "      <td>280206.02</td>\n",
              "      <td>2</td>\n",
              "    </tr>\n",
              "    <tr>\n",
              "      <th>14911.0</th>\n",
              "      <td>1</td>\n",
              "      <td>5677</td>\n",
              "      <td>143825.06</td>\n",
              "      <td>2</td>\n",
              "    </tr>\n",
              "    <tr>\n",
              "      <th>15311.0</th>\n",
              "      <td>0</td>\n",
              "      <td>2379</td>\n",
              "      <td>60767.90</td>\n",
              "      <td>2</td>\n",
              "    </tr>\n",
              "    <tr>\n",
              "      <th>16446.0</th>\n",
              "      <td>0</td>\n",
              "      <td>3</td>\n",
              "      <td>168472.50</td>\n",
              "      <td>2</td>\n",
              "    </tr>\n",
              "    <tr>\n",
              "      <th>17450.0</th>\n",
              "      <td>8</td>\n",
              "      <td>337</td>\n",
              "      <td>194550.79</td>\n",
              "      <td>2</td>\n",
              "    </tr>\n",
              "  </tbody>\n",
              "</table>\n",
              "</div>"
            ],
            "text/plain": [
              "            recency  frequency  monetary_value  cluster_label\n",
              "CustomerID                                                   \n",
              "12415.0          24        716       124914.53              2\n",
              "12748.0           0       4596        33719.73              2\n",
              "13089.0           2       1818        58825.83              2\n",
              "14096.0           4       5111        65164.79              2\n",
              "14156.0           9       1400       117379.63              2\n",
              "14646.0           1       2080       280206.02              2\n",
              "14911.0           1       5677       143825.06              2\n",
              "15311.0           0       2379        60767.90              2\n",
              "16446.0           0          3       168472.50              2\n",
              "17450.0           8        337       194550.79              2"
            ]
          },
          "metadata": {
            "tags": []
          },
          "execution_count": 42
        }
      ]
    },
    {
      "cell_type": "markdown",
      "metadata": {
        "id": "vpCx5pk0tMV0",
        "colab_type": "text"
      },
      "source": [
        "## As seen the clusters are not balanced"
      ]
    },
    {
      "cell_type": "code",
      "metadata": {
        "id": "pWcCUH29nXX3",
        "colab_type": "code",
        "colab": {
          "base_uri": "https://localhost:8080/",
          "height": 34
        },
        "outputId": "ad71bfd6-3731-462b-eaaf-828e0425675a"
      },
      "source": [
        "rfmTable_2.shape"
      ],
      "execution_count": 43,
      "outputs": [
        {
          "output_type": "execute_result",
          "data": {
            "text/plain": [
              "(13, 4)"
            ]
          },
          "metadata": {
            "tags": []
          },
          "execution_count": 43
        }
      ]
    },
    {
      "cell_type": "markdown",
      "metadata": {
        "id": "Ydrqbwe4VQtF",
        "colab_type": "text"
      },
      "source": [
        "#### Each customer is assigned with the cluster label.\n",
        "#### All the customers with low recency and high frequency and and monetary value are segmented in this Cluster .These are the most profitable and highly valued customers company should look at.\n"
      ]
    },
    {
      "cell_type": "code",
      "metadata": {
        "id": "uJSKIcHEVQtG",
        "colab_type": "code",
        "colab": {
          "base_uri": "https://localhost:8080/",
          "height": 101
        },
        "outputId": "4ac8033c-cc37-4fb2-e5ac-f5ad4814d2e1"
      },
      "source": [
        "rfmTable_0.mean()"
      ],
      "execution_count": 44,
      "outputs": [
        {
          "output_type": "execute_result",
          "data": {
            "text/plain": [
              "recency           246.813889\n",
              "frequency          27.750926\n",
              "monetary_value    636.501112\n",
              "cluster_label       0.000000\n",
              "dtype: float64"
            ]
          },
          "metadata": {
            "tags": []
          },
          "execution_count": 44
        }
      ]
    },
    {
      "cell_type": "code",
      "metadata": {
        "id": "DVurBChqVQtO",
        "colab_type": "code",
        "colab": {
          "base_uri": "https://localhost:8080/",
          "height": 101
        },
        "outputId": "fccd6983-42aa-4bcd-d71f-cacb5311eb2b"
      },
      "source": [
        "rfmTable_1.mean()"
      ],
      "execution_count": 45,
      "outputs": [
        {
          "output_type": "execute_result",
          "data": {
            "text/plain": [
              "recency             40.898644\n",
              "frequency          103.079174\n",
              "monetary_value    2028.480799\n",
              "cluster_label        1.000000\n",
              "dtype: float64"
            ]
          },
          "metadata": {
            "tags": []
          },
          "execution_count": 45
        }
      ]
    },
    {
      "cell_type": "code",
      "metadata": {
        "id": "hNhgwEeXVQtR",
        "colab_type": "code",
        "colab": {
          "base_uri": "https://localhost:8080/",
          "height": 101
        },
        "outputId": "a3071a6f-086c-4545-bd23-34d4c781e438"
      },
      "source": [
        "rfmTable_2.mean()"
      ],
      "execution_count": 46,
      "outputs": [
        {
          "output_type": "execute_result",
          "data": {
            "text/plain": [
              "recency                4.00\n",
              "frequency           2566.00\n",
              "monetary_value    126118.31\n",
              "cluster_label          2.00\n",
              "dtype: float64"
            ]
          },
          "metadata": {
            "tags": []
          },
          "execution_count": 46
        }
      ]
    },
    {
      "cell_type": "code",
      "metadata": {
        "id": "E_zlWawcVQtT",
        "colab_type": "code",
        "colab": {
          "base_uri": "https://localhost:8080/",
          "height": 67
        },
        "outputId": "bd71347f-264f-4231-d13e-e8a8bd56e6a0"
      },
      "source": [
        "clusters = KMeans(3)  \n",
        "clusters.fit( X_scaled )\n"
      ],
      "execution_count": 47,
      "outputs": [
        {
          "output_type": "execute_result",
          "data": {
            "text/plain": [
              "KMeans(algorithm='auto', copy_x=True, init='k-means++', max_iter=300,\n",
              "       n_clusters=3, n_init=10, n_jobs=None, precompute_distances='auto',\n",
              "       random_state=None, tol=0.0001, verbose=0)"
            ]
          },
          "metadata": {
            "tags": []
          },
          "execution_count": 47
        }
      ]
    },
    {
      "cell_type": "code",
      "metadata": {
        "id": "BPTvjC73VQtW",
        "colab_type": "code",
        "colab": {
          "base_uri": "https://localhost:8080/",
          "height": 373
        },
        "outputId": "a03a84c4-4be4-4d21-8dc4-5ebe198efd78"
      },
      "source": [
        "rfmTable.head(10)"
      ],
      "execution_count": 48,
      "outputs": [
        {
          "output_type": "execute_result",
          "data": {
            "text/html": [
              "<div>\n",
              "<style scoped>\n",
              "    .dataframe tbody tr th:only-of-type {\n",
              "        vertical-align: middle;\n",
              "    }\n",
              "\n",
              "    .dataframe tbody tr th {\n",
              "        vertical-align: top;\n",
              "    }\n",
              "\n",
              "    .dataframe thead th {\n",
              "        text-align: right;\n",
              "    }\n",
              "</style>\n",
              "<table border=\"1\" class=\"dataframe\">\n",
              "  <thead>\n",
              "    <tr style=\"text-align: right;\">\n",
              "      <th></th>\n",
              "      <th>recency</th>\n",
              "      <th>frequency</th>\n",
              "      <th>monetary_value</th>\n",
              "      <th>cluster_label</th>\n",
              "    </tr>\n",
              "    <tr>\n",
              "      <th>CustomerID</th>\n",
              "      <th></th>\n",
              "      <th></th>\n",
              "      <th></th>\n",
              "      <th></th>\n",
              "    </tr>\n",
              "  </thead>\n",
              "  <tbody>\n",
              "    <tr>\n",
              "      <th>12346.0</th>\n",
              "      <td>325</td>\n",
              "      <td>1</td>\n",
              "      <td>77183.60</td>\n",
              "      <td>0</td>\n",
              "    </tr>\n",
              "    <tr>\n",
              "      <th>12347.0</th>\n",
              "      <td>2</td>\n",
              "      <td>182</td>\n",
              "      <td>4310.00</td>\n",
              "      <td>1</td>\n",
              "    </tr>\n",
              "    <tr>\n",
              "      <th>12348.0</th>\n",
              "      <td>75</td>\n",
              "      <td>31</td>\n",
              "      <td>1797.24</td>\n",
              "      <td>1</td>\n",
              "    </tr>\n",
              "    <tr>\n",
              "      <th>12349.0</th>\n",
              "      <td>18</td>\n",
              "      <td>73</td>\n",
              "      <td>1757.55</td>\n",
              "      <td>1</td>\n",
              "    </tr>\n",
              "    <tr>\n",
              "      <th>12350.0</th>\n",
              "      <td>310</td>\n",
              "      <td>17</td>\n",
              "      <td>334.40</td>\n",
              "      <td>0</td>\n",
              "    </tr>\n",
              "    <tr>\n",
              "      <th>12352.0</th>\n",
              "      <td>36</td>\n",
              "      <td>85</td>\n",
              "      <td>2506.04</td>\n",
              "      <td>1</td>\n",
              "    </tr>\n",
              "    <tr>\n",
              "      <th>12353.0</th>\n",
              "      <td>204</td>\n",
              "      <td>4</td>\n",
              "      <td>89.00</td>\n",
              "      <td>0</td>\n",
              "    </tr>\n",
              "    <tr>\n",
              "      <th>12354.0</th>\n",
              "      <td>232</td>\n",
              "      <td>58</td>\n",
              "      <td>1079.40</td>\n",
              "      <td>0</td>\n",
              "    </tr>\n",
              "    <tr>\n",
              "      <th>12355.0</th>\n",
              "      <td>214</td>\n",
              "      <td>13</td>\n",
              "      <td>459.40</td>\n",
              "      <td>0</td>\n",
              "    </tr>\n",
              "    <tr>\n",
              "      <th>12356.0</th>\n",
              "      <td>22</td>\n",
              "      <td>59</td>\n",
              "      <td>2811.43</td>\n",
              "      <td>1</td>\n",
              "    </tr>\n",
              "  </tbody>\n",
              "</table>\n",
              "</div>"
            ],
            "text/plain": [
              "            recency  frequency  monetary_value  cluster_label\n",
              "CustomerID                                                   \n",
              "12346.0         325          1        77183.60              0\n",
              "12347.0           2        182         4310.00              1\n",
              "12348.0          75         31         1797.24              1\n",
              "12349.0          18         73         1757.55              1\n",
              "12350.0         310         17          334.40              0\n",
              "12352.0          36         85         2506.04              1\n",
              "12353.0         204          4           89.00              0\n",
              "12354.0         232         58         1079.40              0\n",
              "12355.0         214         13          459.40              0\n",
              "12356.0          22         59         2811.43              1"
            ]
          },
          "metadata": {
            "tags": []
          },
          "execution_count": 48
        }
      ]
    },
    {
      "cell_type": "code",
      "metadata": {
        "id": "-TKWv4J1VQtZ",
        "colab_type": "code",
        "colab": {
          "base_uri": "https://localhost:8080/",
          "height": 166
        },
        "outputId": "7c90977f-2658-4078-c3ad-6455922bd5c1"
      },
      "source": [
        "rfmTable.groupby('cluster_label').mean()"
      ],
      "execution_count": 49,
      "outputs": [
        {
          "output_type": "execute_result",
          "data": {
            "text/html": [
              "<div>\n",
              "<style scoped>\n",
              "    .dataframe tbody tr th:only-of-type {\n",
              "        vertical-align: middle;\n",
              "    }\n",
              "\n",
              "    .dataframe tbody tr th {\n",
              "        vertical-align: top;\n",
              "    }\n",
              "\n",
              "    .dataframe thead th {\n",
              "        text-align: right;\n",
              "    }\n",
              "</style>\n",
              "<table border=\"1\" class=\"dataframe\">\n",
              "  <thead>\n",
              "    <tr style=\"text-align: right;\">\n",
              "      <th></th>\n",
              "      <th>recency</th>\n",
              "      <th>frequency</th>\n",
              "      <th>monetary_value</th>\n",
              "    </tr>\n",
              "    <tr>\n",
              "      <th>cluster_label</th>\n",
              "      <th></th>\n",
              "      <th></th>\n",
              "      <th></th>\n",
              "    </tr>\n",
              "  </thead>\n",
              "  <tbody>\n",
              "    <tr>\n",
              "      <th>0</th>\n",
              "      <td>246.813889</td>\n",
              "      <td>27.750926</td>\n",
              "      <td>636.501112</td>\n",
              "    </tr>\n",
              "    <tr>\n",
              "      <th>1</th>\n",
              "      <td>40.898644</td>\n",
              "      <td>103.079174</td>\n",
              "      <td>2028.480799</td>\n",
              "    </tr>\n",
              "    <tr>\n",
              "      <th>2</th>\n",
              "      <td>4.000000</td>\n",
              "      <td>2566.000000</td>\n",
              "      <td>126118.310000</td>\n",
              "    </tr>\n",
              "  </tbody>\n",
              "</table>\n",
              "</div>"
            ],
            "text/plain": [
              "                  recency    frequency  monetary_value\n",
              "cluster_label                                         \n",
              "0              246.813889    27.750926      636.501112\n",
              "1               40.898644   103.079174     2028.480799\n",
              "2                4.000000  2566.000000   126118.310000"
            ]
          },
          "metadata": {
            "tags": []
          },
          "execution_count": 49
        }
      ]
    },
    {
      "cell_type": "markdown",
      "metadata": {
        "id": "-jgf_iibs613",
        "colab_type": "text"
      },
      "source": [
        "## Since K means is not that great at grouping we are going to use one of the latest methods i.e. Jenkins Natural breaks\n",
        "\n",
        "See this paper for details: https://www.researchgate.net/publication/225168356_Comparison_of_classification_and_clustering_methods_in_spatial_rainfall_pattern_recognition_at_Northern_Iran"
      ]
    },
    {
      "cell_type": "code",
      "metadata": {
        "id": "H92Doe9DwHt0",
        "colab_type": "code",
        "colab": {
          "base_uri": "https://localhost:8080/",
          "height": 195
        },
        "outputId": "57e4e3e9-da70-4d7d-a5d9-961e58b32e46"
      },
      "source": [
        "r_quarters = rfmTable['recency'].quantile(q=[0, 0.25,0.5,0.75, 1]).to_list()\n",
        "f_quarters = rfmTable['frequency'].quantile(q=[0, 0.25,0.5,0.75, 1]).to_list()\n",
        "m_quarters = rfmTable['monetary_value'].quantile(q=[0, 0.25,0.5,0.75, 1]).to_list()\n",
        "quartile_spread = pd.DataFrame(list(zip(r_quarters, f_quarters, m_quarters)), \n",
        "                      columns=['Q_Recency','Q_Frequency', 'Q_Monetary'],\n",
        "                     index = [ 'min','first_part','second_part','third_part', 'max'])\n",
        "quartile_spread"
      ],
      "execution_count": 50,
      "outputs": [
        {
          "output_type": "execute_result",
          "data": {
            "text/html": [
              "<div>\n",
              "<style scoped>\n",
              "    .dataframe tbody tr th:only-of-type {\n",
              "        vertical-align: middle;\n",
              "    }\n",
              "\n",
              "    .dataframe tbody tr th {\n",
              "        vertical-align: top;\n",
              "    }\n",
              "\n",
              "    .dataframe thead th {\n",
              "        text-align: right;\n",
              "    }\n",
              "</style>\n",
              "<table border=\"1\" class=\"dataframe\">\n",
              "  <thead>\n",
              "    <tr style=\"text-align: right;\">\n",
              "      <th></th>\n",
              "      <th>Q_Recency</th>\n",
              "      <th>Q_Frequency</th>\n",
              "      <th>Q_Monetary</th>\n",
              "    </tr>\n",
              "  </thead>\n",
              "  <tbody>\n",
              "    <tr>\n",
              "      <th>min</th>\n",
              "      <td>0.0</td>\n",
              "      <td>1.0</td>\n",
              "      <td>0.000</td>\n",
              "    </tr>\n",
              "    <tr>\n",
              "      <th>first_part</th>\n",
              "      <td>17.0</td>\n",
              "      <td>17.0</td>\n",
              "      <td>307.245</td>\n",
              "    </tr>\n",
              "    <tr>\n",
              "      <th>second_part</th>\n",
              "      <td>50.0</td>\n",
              "      <td>41.0</td>\n",
              "      <td>674.450</td>\n",
              "    </tr>\n",
              "    <tr>\n",
              "      <th>third_part</th>\n",
              "      <td>141.5</td>\n",
              "      <td>100.0</td>\n",
              "      <td>1661.640</td>\n",
              "    </tr>\n",
              "    <tr>\n",
              "      <th>max</th>\n",
              "      <td>373.0</td>\n",
              "      <td>7847.0</td>\n",
              "      <td>280206.020</td>\n",
              "    </tr>\n",
              "  </tbody>\n",
              "</table>\n",
              "</div>"
            ],
            "text/plain": [
              "             Q_Recency  Q_Frequency  Q_Monetary\n",
              "min                0.0          1.0       0.000\n",
              "first_part        17.0         17.0     307.245\n",
              "second_part       50.0         41.0     674.450\n",
              "third_part       141.5        100.0    1661.640\n",
              "max              373.0       7847.0  280206.020"
            ]
          },
          "metadata": {
            "tags": []
          },
          "execution_count": 50
        }
      ]
    },
    {
      "cell_type": "code",
      "metadata": {
        "id": "4WauAUTUVQtc",
        "colab_type": "code",
        "colab": {
          "base_uri": "https://localhost:8080/",
          "height": 205
        },
        "outputId": "28762216-9447-426b-a427-25dc790aa860"
      },
      "source": [
        "!pip install jenkspy"
      ],
      "execution_count": 51,
      "outputs": [
        {
          "output_type": "stream",
          "text": [
            "Collecting jenkspy\n",
            "\u001b[?25l  Downloading https://files.pythonhosted.org/packages/bf/e6/ce363f30ac36550e0572c6cc878ea794776f7063dff8c1e2e4edad0aa63f/jenkspy-0.1.5.tar.gz (49kB)\n",
            "\r\u001b[K     |██████▋                         | 10kB 24.2MB/s eta 0:00:01\r\u001b[K     |█████████████▏                  | 20kB 4.5MB/s eta 0:00:01\r\u001b[K     |███████████████████▊            | 30kB 5.7MB/s eta 0:00:01\r\u001b[K     |██████████████████████████▍     | 40kB 5.9MB/s eta 0:00:01\r\u001b[K     |████████████████████████████████| 51kB 3.1MB/s \n",
            "\u001b[?25hBuilding wheels for collected packages: jenkspy\n",
            "  Building wheel for jenkspy (setup.py) ... \u001b[?25l\u001b[?25hdone\n",
            "  Created wheel for jenkspy: filename=jenkspy-0.1.5-cp36-cp36m-linux_x86_64.whl size=69032 sha256=95201e5434b45acbc3d51bafd4148e21d6154439f4bb5c7cccc1001389ca7750\n",
            "  Stored in directory: /root/.cache/pip/wheels/14/1d/b0/45b9ac586dd190ca029df1965fe9f497327506376d51422475\n",
            "Successfully built jenkspy\n",
            "Installing collected packages: jenkspy\n",
            "Successfully installed jenkspy-0.1.5\n"
          ],
          "name": "stdout"
        }
      ]
    },
    {
      "cell_type": "code",
      "metadata": {
        "id": "CwdiGoj3VQtf",
        "colab_type": "code",
        "colab": {}
      },
      "source": [
        "import jenkspy"
      ],
      "execution_count": 52,
      "outputs": []
    },
    {
      "cell_type": "code",
      "metadata": {
        "id": "lDJ64oyVpiFH",
        "colab_type": "code",
        "colab": {}
      },
      "source": [
        "rfmTable['r_percentile'] = rfmTable['recency'].rank(pct=True,ascending=False)\n",
        "rfmTable['r_score'] = pd.qcut(rfmTable['r_percentile'], 4, labels=range(4,0,-1))\n",
        "rfmTable['f_percentile'] = rfmTable['frequency'].rank(pct=True,ascending=True)\n",
        "rfmTable['f_score'] = pd.qcut(rfmTable['f_percentile'], 4, labels=range(4,0,-1))\n",
        "rfmTable['m_percentile'] = rfmTable['monetary_value'].rank(pct=True,ascending=True)\n",
        "rfmTable['m_score'] = pd.qcut(rfmTable['m_percentile'], 4, labels=range(4,0,-1))"
      ],
      "execution_count": 53,
      "outputs": []
    },
    {
      "cell_type": "code",
      "metadata": {
        "id": "iLZbro1NrdKL",
        "colab_type": "code",
        "colab": {
          "base_uri": "https://localhost:8080/",
          "height": 195
        },
        "outputId": "fe22069b-e25f-44eb-b1bb-87d0e504eab8"
      },
      "source": [
        "rfmTable.head(4)"
      ],
      "execution_count": 54,
      "outputs": [
        {
          "output_type": "execute_result",
          "data": {
            "text/html": [
              "<div>\n",
              "<style scoped>\n",
              "    .dataframe tbody tr th:only-of-type {\n",
              "        vertical-align: middle;\n",
              "    }\n",
              "\n",
              "    .dataframe tbody tr th {\n",
              "        vertical-align: top;\n",
              "    }\n",
              "\n",
              "    .dataframe thead th {\n",
              "        text-align: right;\n",
              "    }\n",
              "</style>\n",
              "<table border=\"1\" class=\"dataframe\">\n",
              "  <thead>\n",
              "    <tr style=\"text-align: right;\">\n",
              "      <th></th>\n",
              "      <th>recency</th>\n",
              "      <th>frequency</th>\n",
              "      <th>monetary_value</th>\n",
              "      <th>cluster_label</th>\n",
              "      <th>r_percentile</th>\n",
              "      <th>r_score</th>\n",
              "      <th>f_percentile</th>\n",
              "      <th>f_score</th>\n",
              "      <th>m_percentile</th>\n",
              "      <th>m_score</th>\n",
              "    </tr>\n",
              "    <tr>\n",
              "      <th>CustomerID</th>\n",
              "      <th></th>\n",
              "      <th></th>\n",
              "      <th></th>\n",
              "      <th></th>\n",
              "      <th></th>\n",
              "      <th></th>\n",
              "      <th></th>\n",
              "      <th></th>\n",
              "      <th></th>\n",
              "      <th></th>\n",
              "    </tr>\n",
              "  </thead>\n",
              "  <tbody>\n",
              "    <tr>\n",
              "      <th>12346.0</th>\n",
              "      <td>325</td>\n",
              "      <td>1</td>\n",
              "      <td>77183.60</td>\n",
              "      <td>0</td>\n",
              "      <td>0.037451</td>\n",
              "      <td>4</td>\n",
              "      <td>0.008412</td>\n",
              "      <td>4</td>\n",
              "      <td>0.997926</td>\n",
              "      <td>1</td>\n",
              "    </tr>\n",
              "    <tr>\n",
              "      <th>12347.0</th>\n",
              "      <td>2</td>\n",
              "      <td>182</td>\n",
              "      <td>4310.00</td>\n",
              "      <td>1</td>\n",
              "      <td>0.957940</td>\n",
              "      <td>1</td>\n",
              "      <td>0.881079</td>\n",
              "      <td>1</td>\n",
              "      <td>0.922793</td>\n",
              "      <td>1</td>\n",
              "    </tr>\n",
              "    <tr>\n",
              "      <th>12348.0</th>\n",
              "      <td>75</td>\n",
              "      <td>31</td>\n",
              "      <td>1797.24</td>\n",
              "      <td>1</td>\n",
              "      <td>0.379350</td>\n",
              "      <td>3</td>\n",
              "      <td>0.421180</td>\n",
              "      <td>3</td>\n",
              "      <td>0.768380</td>\n",
              "      <td>1</td>\n",
              "    </tr>\n",
              "    <tr>\n",
              "      <th>12349.0</th>\n",
              "      <td>18</td>\n",
              "      <td>73</td>\n",
              "      <td>1757.55</td>\n",
              "      <td>1</td>\n",
              "      <td>0.739687</td>\n",
              "      <td>2</td>\n",
              "      <td>0.665706</td>\n",
              "      <td>2</td>\n",
              "      <td>0.761927</td>\n",
              "      <td>1</td>\n",
              "    </tr>\n",
              "  </tbody>\n",
              "</table>\n",
              "</div>"
            ],
            "text/plain": [
              "            recency  frequency  monetary_value  ...  f_score  m_percentile m_score\n",
              "CustomerID                                      ...                               \n",
              "12346.0         325          1        77183.60  ...        4      0.997926       1\n",
              "12347.0           2        182         4310.00  ...        1      0.922793       1\n",
              "12348.0          75         31         1797.24  ...        3      0.768380       1\n",
              "12349.0          18         73         1757.55  ...        2      0.761927       1\n",
              "\n",
              "[4 rows x 10 columns]"
            ]
          },
          "metadata": {
            "tags": []
          },
          "execution_count": 54
        }
      ]
    },
    {
      "cell_type": "code",
      "metadata": {
        "id": "3sLQcxca957O",
        "colab_type": "code",
        "colab": {
          "base_uri": "https://localhost:8080/",
          "height": 84
        },
        "outputId": "03ca0ce9-54a2-4dde-d52c-21e082a4dfd6"
      },
      "source": [
        "rfmTable['cluster_label'].value_counts()\n"
      ],
      "execution_count": 55,
      "outputs": [
        {
          "output_type": "execute_result",
          "data": {
            "text/plain": [
              "1    3246\n",
              "0    1080\n",
              "2      13\n",
              "Name: cluster_label, dtype: int64"
            ]
          },
          "metadata": {
            "tags": []
          },
          "execution_count": 55
        }
      ]
    },
    {
      "cell_type": "code",
      "metadata": {
        "id": "SWnkhS5RroXK",
        "colab_type": "code",
        "colab": {}
      },
      "source": [
        "Jenkinsrfm=rfmTable.drop('cluster_label',axis=1)"
      ],
      "execution_count": 56,
      "outputs": []
    },
    {
      "cell_type": "code",
      "metadata": {
        "id": "HvvRhHsrsWnh",
        "colab_type": "code",
        "colab": {
          "base_uri": "https://localhost:8080/",
          "height": 136
        },
        "outputId": "f185577b-04c3-42a7-bf6f-c92cf19e18c7"
      },
      "source": [
        "Jenkinsrfm.head(2)"
      ],
      "execution_count": 57,
      "outputs": [
        {
          "output_type": "execute_result",
          "data": {
            "text/html": [
              "<div>\n",
              "<style scoped>\n",
              "    .dataframe tbody tr th:only-of-type {\n",
              "        vertical-align: middle;\n",
              "    }\n",
              "\n",
              "    .dataframe tbody tr th {\n",
              "        vertical-align: top;\n",
              "    }\n",
              "\n",
              "    .dataframe thead th {\n",
              "        text-align: right;\n",
              "    }\n",
              "</style>\n",
              "<table border=\"1\" class=\"dataframe\">\n",
              "  <thead>\n",
              "    <tr style=\"text-align: right;\">\n",
              "      <th></th>\n",
              "      <th>recency</th>\n",
              "      <th>frequency</th>\n",
              "      <th>monetary_value</th>\n",
              "      <th>r_percentile</th>\n",
              "      <th>r_score</th>\n",
              "      <th>f_percentile</th>\n",
              "      <th>f_score</th>\n",
              "      <th>m_percentile</th>\n",
              "      <th>m_score</th>\n",
              "    </tr>\n",
              "    <tr>\n",
              "      <th>CustomerID</th>\n",
              "      <th></th>\n",
              "      <th></th>\n",
              "      <th></th>\n",
              "      <th></th>\n",
              "      <th></th>\n",
              "      <th></th>\n",
              "      <th></th>\n",
              "      <th></th>\n",
              "      <th></th>\n",
              "    </tr>\n",
              "  </thead>\n",
              "  <tbody>\n",
              "    <tr>\n",
              "      <th>12346.0</th>\n",
              "      <td>325</td>\n",
              "      <td>1</td>\n",
              "      <td>77183.6</td>\n",
              "      <td>0.037451</td>\n",
              "      <td>4</td>\n",
              "      <td>0.008412</td>\n",
              "      <td>4</td>\n",
              "      <td>0.997926</td>\n",
              "      <td>1</td>\n",
              "    </tr>\n",
              "    <tr>\n",
              "      <th>12347.0</th>\n",
              "      <td>2</td>\n",
              "      <td>182</td>\n",
              "      <td>4310.0</td>\n",
              "      <td>0.957940</td>\n",
              "      <td>1</td>\n",
              "      <td>0.881079</td>\n",
              "      <td>1</td>\n",
              "      <td>0.922793</td>\n",
              "      <td>1</td>\n",
              "    </tr>\n",
              "  </tbody>\n",
              "</table>\n",
              "</div>"
            ],
            "text/plain": [
              "            recency  frequency  monetary_value  ...  f_score m_percentile  m_score\n",
              "CustomerID                                      ...                               \n",
              "12346.0         325          1         77183.6  ...        4     0.997926        1\n",
              "12347.0           2        182          4310.0  ...        1     0.922793        1\n",
              "\n",
              "[2 rows x 9 columns]"
            ]
          },
          "metadata": {
            "tags": []
          },
          "execution_count": 57
        }
      ]
    },
    {
      "cell_type": "code",
      "metadata": {
        "id": "Wtk8ixV2sd17",
        "colab_type": "code",
        "colab": {}
      },
      "source": [
        "rfmTable['cltv_score'] = rfmTable['r_score'].astype(str) + rfmTable['f_score'].astype(str) + rfmTable['m_score'].astype(str)"
      ],
      "execution_count": 58,
      "outputs": []
    },
    {
      "cell_type": "code",
      "metadata": {
        "id": "qKDBTXnctcOQ",
        "colab_type": "code",
        "colab": {
          "base_uri": "https://localhost:8080/",
          "height": 136
        },
        "outputId": "10e5a9e5-2de6-449f-eee5-a08fdf04ca75"
      },
      "source": [
        "rfmTable.head(2)"
      ],
      "execution_count": 59,
      "outputs": [
        {
          "output_type": "execute_result",
          "data": {
            "text/html": [
              "<div>\n",
              "<style scoped>\n",
              "    .dataframe tbody tr th:only-of-type {\n",
              "        vertical-align: middle;\n",
              "    }\n",
              "\n",
              "    .dataframe tbody tr th {\n",
              "        vertical-align: top;\n",
              "    }\n",
              "\n",
              "    .dataframe thead th {\n",
              "        text-align: right;\n",
              "    }\n",
              "</style>\n",
              "<table border=\"1\" class=\"dataframe\">\n",
              "  <thead>\n",
              "    <tr style=\"text-align: right;\">\n",
              "      <th></th>\n",
              "      <th>recency</th>\n",
              "      <th>frequency</th>\n",
              "      <th>monetary_value</th>\n",
              "      <th>cluster_label</th>\n",
              "      <th>r_percentile</th>\n",
              "      <th>r_score</th>\n",
              "      <th>f_percentile</th>\n",
              "      <th>f_score</th>\n",
              "      <th>m_percentile</th>\n",
              "      <th>m_score</th>\n",
              "      <th>cltv_score</th>\n",
              "    </tr>\n",
              "    <tr>\n",
              "      <th>CustomerID</th>\n",
              "      <th></th>\n",
              "      <th></th>\n",
              "      <th></th>\n",
              "      <th></th>\n",
              "      <th></th>\n",
              "      <th></th>\n",
              "      <th></th>\n",
              "      <th></th>\n",
              "      <th></th>\n",
              "      <th></th>\n",
              "      <th></th>\n",
              "    </tr>\n",
              "  </thead>\n",
              "  <tbody>\n",
              "    <tr>\n",
              "      <th>12346.0</th>\n",
              "      <td>325</td>\n",
              "      <td>1</td>\n",
              "      <td>77183.6</td>\n",
              "      <td>0</td>\n",
              "      <td>0.037451</td>\n",
              "      <td>4</td>\n",
              "      <td>0.008412</td>\n",
              "      <td>4</td>\n",
              "      <td>0.997926</td>\n",
              "      <td>1</td>\n",
              "      <td>441</td>\n",
              "    </tr>\n",
              "    <tr>\n",
              "      <th>12347.0</th>\n",
              "      <td>2</td>\n",
              "      <td>182</td>\n",
              "      <td>4310.0</td>\n",
              "      <td>1</td>\n",
              "      <td>0.957940</td>\n",
              "      <td>1</td>\n",
              "      <td>0.881079</td>\n",
              "      <td>1</td>\n",
              "      <td>0.922793</td>\n",
              "      <td>1</td>\n",
              "      <td>111</td>\n",
              "    </tr>\n",
              "  </tbody>\n",
              "</table>\n",
              "</div>"
            ],
            "text/plain": [
              "            recency  frequency  monetary_value  ...  m_percentile  m_score cltv_score\n",
              "CustomerID                                      ...                                  \n",
              "12346.0         325          1         77183.6  ...      0.997926        1        441\n",
              "12347.0           2        182          4310.0  ...      0.922793        1        111\n",
              "\n",
              "[2 rows x 11 columns]"
            ]
          },
          "metadata": {
            "tags": []
          },
          "execution_count": 59
        }
      ]
    },
    {
      "cell_type": "markdown",
      "metadata": {
        "id": "QoWwanE8uuRn",
        "colab_type": "text"
      },
      "source": [
        "## although the best customers have highest value but least valuable have second highest value"
      ]
    },
    {
      "cell_type": "code",
      "metadata": {
        "id": "G2aFWpiHuQFZ",
        "colab_type": "code",
        "colab": {
          "base_uri": "https://localhost:8080/",
          "height": 195
        },
        "outputId": "e8bc70ab-78b0-4ab7-ab75-a13fab075a9c"
      },
      "source": [
        "r_breaks = jenkspy.jenks_breaks(rfmTable['recency'], nb_class=4)\n",
        "f_breaks = jenkspy.jenks_breaks(rfmTable['frequency'], nb_class=4)\n",
        "m_breaks = jenkspy.jenks_breaks(rfmTable['monetary_value'], nb_class=4)\n",
        "jenks_spread = pd.DataFrame(list(zip(r_breaks, f_breaks, m_breaks)), \n",
        "                      columns=['Jenkins_Recency','Jenkins_Frequency', 'Jenkins_Monetary'],\n",
        "                     index = ['min', 'first_part','second_part','third_part', 'max'])\n",
        "jenks_spread"
      ],
      "execution_count": 62,
      "outputs": [
        {
          "output_type": "execute_result",
          "data": {
            "text/html": [
              "<div>\n",
              "<style scoped>\n",
              "    .dataframe tbody tr th:only-of-type {\n",
              "        vertical-align: middle;\n",
              "    }\n",
              "\n",
              "    .dataframe tbody tr th {\n",
              "        vertical-align: top;\n",
              "    }\n",
              "\n",
              "    .dataframe thead th {\n",
              "        text-align: right;\n",
              "    }\n",
              "</style>\n",
              "<table border=\"1\" class=\"dataframe\">\n",
              "  <thead>\n",
              "    <tr style=\"text-align: right;\">\n",
              "      <th></th>\n",
              "      <th>Jenkins_Recency</th>\n",
              "      <th>Jenkins_Frequency</th>\n",
              "      <th>Jenkins_Monetary</th>\n",
              "    </tr>\n",
              "  </thead>\n",
              "  <tbody>\n",
              "    <tr>\n",
              "      <th>min</th>\n",
              "      <td>0.0</td>\n",
              "      <td>1.0</td>\n",
              "      <td>0.00</td>\n",
              "    </tr>\n",
              "    <tr>\n",
              "      <th>first_part</th>\n",
              "      <td>52.0</td>\n",
              "      <td>186.0</td>\n",
              "      <td>21429.39</td>\n",
              "    </tr>\n",
              "    <tr>\n",
              "      <th>second_part</th>\n",
              "      <td>138.0</td>\n",
              "      <td>799.0</td>\n",
              "      <td>91062.38</td>\n",
              "    </tr>\n",
              "    <tr>\n",
              "      <th>third_part</th>\n",
              "      <td>250.0</td>\n",
              "      <td>2700.0</td>\n",
              "      <td>194550.79</td>\n",
              "    </tr>\n",
              "    <tr>\n",
              "      <th>max</th>\n",
              "      <td>373.0</td>\n",
              "      <td>7847.0</td>\n",
              "      <td>280206.02</td>\n",
              "    </tr>\n",
              "  </tbody>\n",
              "</table>\n",
              "</div>"
            ],
            "text/plain": [
              "             Jenkins_Recency  Jenkins_Frequency  Jenkins_Monetary\n",
              "min                      0.0                1.0              0.00\n",
              "first_part              52.0              186.0          21429.39\n",
              "second_part            138.0              799.0          91062.38\n",
              "third_part             250.0             2700.0         194550.79\n",
              "max                    373.0             7847.0         280206.02"
            ]
          },
          "metadata": {
            "tags": []
          },
          "execution_count": 62
        }
      ]
    },
    {
      "cell_type": "markdown",
      "metadata": {
        "id": "tDBHSZyEIUK7",
        "colab_type": "text"
      },
      "source": [
        "### The difference between the two clustering algorithms is not significant so we go with K means"
      ]
    },
    {
      "cell_type": "code",
      "metadata": {
        "id": "-xvodZpIvqdW",
        "colab_type": "code",
        "colab": {
          "base_uri": "https://localhost:8080/",
          "height": 431
        },
        "outputId": "b318b8e6-ff2f-404e-8e01-45d776afad7a"
      },
      "source": [
        "rfmTable.sort_values('cltv_score',ascending=[1])"
      ],
      "execution_count": 63,
      "outputs": [
        {
          "output_type": "execute_result",
          "data": {
            "text/html": [
              "<div>\n",
              "<style scoped>\n",
              "    .dataframe tbody tr th:only-of-type {\n",
              "        vertical-align: middle;\n",
              "    }\n",
              "\n",
              "    .dataframe tbody tr th {\n",
              "        vertical-align: top;\n",
              "    }\n",
              "\n",
              "    .dataframe thead th {\n",
              "        text-align: right;\n",
              "    }\n",
              "</style>\n",
              "<table border=\"1\" class=\"dataframe\">\n",
              "  <thead>\n",
              "    <tr style=\"text-align: right;\">\n",
              "      <th></th>\n",
              "      <th>recency</th>\n",
              "      <th>frequency</th>\n",
              "      <th>monetary_value</th>\n",
              "      <th>cluster_label</th>\n",
              "      <th>r_percentile</th>\n",
              "      <th>r_score</th>\n",
              "      <th>f_percentile</th>\n",
              "      <th>f_score</th>\n",
              "      <th>m_percentile</th>\n",
              "      <th>m_score</th>\n",
              "      <th>cltv_score</th>\n",
              "    </tr>\n",
              "    <tr>\n",
              "      <th>CustomerID</th>\n",
              "      <th></th>\n",
              "      <th></th>\n",
              "      <th></th>\n",
              "      <th></th>\n",
              "      <th></th>\n",
              "      <th></th>\n",
              "      <th></th>\n",
              "      <th></th>\n",
              "      <th></th>\n",
              "      <th></th>\n",
              "      <th></th>\n",
              "    </tr>\n",
              "  </thead>\n",
              "  <tbody>\n",
              "    <tr>\n",
              "      <th>13704.0</th>\n",
              "      <td>5</td>\n",
              "      <td>134</td>\n",
              "      <td>2308.06</td>\n",
              "      <td>1</td>\n",
              "      <td>0.898709</td>\n",
              "      <td>1</td>\n",
              "      <td>0.822655</td>\n",
              "      <td>1</td>\n",
              "      <td>0.823462</td>\n",
              "      <td>1</td>\n",
              "      <td>111</td>\n",
              "    </tr>\n",
              "    <tr>\n",
              "      <th>17017.0</th>\n",
              "      <td>2</td>\n",
              "      <td>252</td>\n",
              "      <td>8694.26</td>\n",
              "      <td>1</td>\n",
              "      <td>0.957940</td>\n",
              "      <td>1</td>\n",
              "      <td>0.925674</td>\n",
              "      <td>1</td>\n",
              "      <td>0.972113</td>\n",
              "      <td>1</td>\n",
              "      <td>111</td>\n",
              "    </tr>\n",
              "    <tr>\n",
              "      <th>17706.0</th>\n",
              "      <td>4</td>\n",
              "      <td>382</td>\n",
              "      <td>10504.49</td>\n",
              "      <td>1</td>\n",
              "      <td>0.915073</td>\n",
              "      <td>1</td>\n",
              "      <td>0.965545</td>\n",
              "      <td>1</td>\n",
              "      <td>0.977645</td>\n",
              "      <td>1</td>\n",
              "      <td>111</td>\n",
              "    </tr>\n",
              "    <tr>\n",
              "      <th>18102.0</th>\n",
              "      <td>0</td>\n",
              "      <td>431</td>\n",
              "      <td>259657.30</td>\n",
              "      <td>2</td>\n",
              "      <td>0.996082</td>\n",
              "      <td>1</td>\n",
              "      <td>0.973727</td>\n",
              "      <td>1</td>\n",
              "      <td>0.999770</td>\n",
              "      <td>1</td>\n",
              "      <td>111</td>\n",
              "    </tr>\n",
              "    <tr>\n",
              "      <th>17705.0</th>\n",
              "      <td>3</td>\n",
              "      <td>103</td>\n",
              "      <td>1823.52</td>\n",
              "      <td>1</td>\n",
              "      <td>0.936737</td>\n",
              "      <td>1</td>\n",
              "      <td>0.759161</td>\n",
              "      <td>1</td>\n",
              "      <td>0.771376</td>\n",
              "      <td>1</td>\n",
              "      <td>111</td>\n",
              "    </tr>\n",
              "    <tr>\n",
              "      <th>...</th>\n",
              "      <td>...</td>\n",
              "      <td>...</td>\n",
              "      <td>...</td>\n",
              "      <td>...</td>\n",
              "      <td>...</td>\n",
              "      <td>...</td>\n",
              "      <td>...</td>\n",
              "      <td>...</td>\n",
              "      <td>...</td>\n",
              "      <td>...</td>\n",
              "      <td>...</td>\n",
              "    </tr>\n",
              "    <tr>\n",
              "      <th>14241.0</th>\n",
              "      <td>183</td>\n",
              "      <td>10</td>\n",
              "      <td>213.70</td>\n",
              "      <td>0</td>\n",
              "      <td>0.195667</td>\n",
              "      <td>4</td>\n",
              "      <td>0.143466</td>\n",
              "      <td>4</td>\n",
              "      <td>0.163402</td>\n",
              "      <td>4</td>\n",
              "      <td>444</td>\n",
              "    </tr>\n",
              "    <tr>\n",
              "      <th>14238.0</th>\n",
              "      <td>326</td>\n",
              "      <td>8</td>\n",
              "      <td>146.85</td>\n",
              "      <td>0</td>\n",
              "      <td>0.036414</td>\n",
              "      <td>4</td>\n",
              "      <td>0.109587</td>\n",
              "      <td>4</td>\n",
              "      <td>0.087578</td>\n",
              "      <td>4</td>\n",
              "      <td>444</td>\n",
              "    </tr>\n",
              "    <tr>\n",
              "      <th>14237.0</th>\n",
              "      <td>373</td>\n",
              "      <td>9</td>\n",
              "      <td>161.00</td>\n",
              "      <td>0</td>\n",
              "      <td>0.002074</td>\n",
              "      <td>4</td>\n",
              "      <td>0.126066</td>\n",
              "      <td>4</td>\n",
              "      <td>0.106246</td>\n",
              "      <td>4</td>\n",
              "      <td>444</td>\n",
              "    </tr>\n",
              "    <tr>\n",
              "      <th>17394.0</th>\n",
              "      <td>219</td>\n",
              "      <td>4</td>\n",
              "      <td>203.87</td>\n",
              "      <td>0</td>\n",
              "      <td>0.146232</td>\n",
              "      <td>4</td>\n",
              "      <td>0.047131</td>\n",
              "      <td>4</td>\n",
              "      <td>0.153722</td>\n",
              "      <td>4</td>\n",
              "      <td>444</td>\n",
              "    </tr>\n",
              "    <tr>\n",
              "      <th>14326.0</th>\n",
              "      <td>242</td>\n",
              "      <td>8</td>\n",
              "      <td>183.85</td>\n",
              "      <td>0</td>\n",
              "      <td>0.123992</td>\n",
              "      <td>4</td>\n",
              "      <td>0.109587</td>\n",
              "      <td>4</td>\n",
              "      <td>0.132980</td>\n",
              "      <td>4</td>\n",
              "      <td>444</td>\n",
              "    </tr>\n",
              "  </tbody>\n",
              "</table>\n",
              "<p>4339 rows × 11 columns</p>\n",
              "</div>"
            ],
            "text/plain": [
              "            recency  frequency  monetary_value  ...  m_percentile  m_score cltv_score\n",
              "CustomerID                                      ...                                  \n",
              "13704.0           5        134         2308.06  ...      0.823462        1        111\n",
              "17017.0           2        252         8694.26  ...      0.972113        1        111\n",
              "17706.0           4        382        10504.49  ...      0.977645        1        111\n",
              "18102.0           0        431       259657.30  ...      0.999770        1        111\n",
              "17705.0           3        103         1823.52  ...      0.771376        1        111\n",
              "...             ...        ...             ...  ...           ...      ...        ...\n",
              "14241.0         183         10          213.70  ...      0.163402        4        444\n",
              "14238.0         326          8          146.85  ...      0.087578        4        444\n",
              "14237.0         373          9          161.00  ...      0.106246        4        444\n",
              "17394.0         219          4          203.87  ...      0.153722        4        444\n",
              "14326.0         242          8          183.85  ...      0.132980        4        444\n",
              "\n",
              "[4339 rows x 11 columns]"
            ]
          },
          "metadata": {
            "tags": []
          },
          "execution_count": 63
        }
      ]
    },
    {
      "cell_type": "markdown",
      "metadata": {
        "id": "GWyjIBoH4_K1",
        "colab_type": "text"
      },
      "source": [
        "# Hierarchial Clustering"
      ]
    },
    {
      "cell_type": "code",
      "metadata": {
        "id": "YkSB6tdRIh1E",
        "colab_type": "code",
        "colab": {}
      },
      "source": [
        "from sklearn.cluster import AgglomerativeClustering"
      ],
      "execution_count": 64,
      "outputs": []
    },
    {
      "cell_type": "code",
      "metadata": {
        "id": "SpDbW5J55nYQ",
        "colab_type": "code",
        "colab": {}
      },
      "source": [
        "clustering = AgglomerativeClustering()"
      ],
      "execution_count": 65,
      "outputs": []
    },
    {
      "cell_type": "code",
      "metadata": {
        "id": "BOdFhNI_5sY6",
        "colab_type": "code",
        "colab": {
          "base_uri": "https://localhost:8080/",
          "height": 67
        },
        "outputId": "c010719e-cfd9-427d-9771-42b036f32a9a"
      },
      "source": [
        "clustering.fit(X_scaled)"
      ],
      "execution_count": 66,
      "outputs": [
        {
          "output_type": "execute_result",
          "data": {
            "text/plain": [
              "AgglomerativeClustering(affinity='euclidean', compute_full_tree='auto',\n",
              "                        connectivity=None, distance_threshold=None,\n",
              "                        linkage='ward', memory=None, n_clusters=2)"
            ]
          },
          "metadata": {
            "tags": []
          },
          "execution_count": 66
        }
      ]
    },
    {
      "cell_type": "code",
      "metadata": {
        "id": "jv8AX9SY52Ib",
        "colab_type": "code",
        "colab": {
          "base_uri": "https://localhost:8080/",
          "height": 34
        },
        "outputId": "110dd83d-330f-41b3-a5f4-57c7e3d37abe"
      },
      "source": [
        "print(clustering.labels_)"
      ],
      "execution_count": 74,
      "outputs": [
        {
          "output_type": "stream",
          "text": [
            "[0 0 0 ... 0 0 0]\n"
          ],
          "name": "stdout"
        }
      ]
    },
    {
      "cell_type": "code",
      "metadata": {
        "id": "ydzKeNpi55Q6",
        "colab_type": "code",
        "colab": {
          "base_uri": "https://localhost:8080/",
          "height": 34
        },
        "outputId": "285a2324-fb6f-4956-88c5-51e369e5977b"
      },
      "source": [
        "# So 2 clusters are formed in this case\n",
        "clustering.n_clusters"
      ],
      "execution_count": 73,
      "outputs": [
        {
          "output_type": "execute_result",
          "data": {
            "text/plain": [
              "2"
            ]
          },
          "metadata": {
            "tags": []
          },
          "execution_count": 73
        }
      ]
    },
    {
      "cell_type": "code",
      "metadata": {
        "id": "EHXjWgYy6Apj",
        "colab_type": "code",
        "colab": {
          "base_uri": "https://localhost:8080/",
          "height": 34
        },
        "outputId": "62e8ccd9-c837-4b0c-945f-69a94120d29c"
      },
      "source": [
        "clustering.n_leaves_"
      ],
      "execution_count": 76,
      "outputs": [
        {
          "output_type": "execute_result",
          "data": {
            "text/plain": [
              "4339"
            ]
          },
          "metadata": {
            "tags": []
          },
          "execution_count": 76
        }
      ]
    },
    {
      "cell_type": "code",
      "metadata": {
        "id": "WfH0PjEo6YAB",
        "colab_type": "code",
        "colab": {
          "base_uri": "https://localhost:8080/",
          "height": 134
        },
        "outputId": "460385df-dead-4a2a-a8bd-914cd6a7c291"
      },
      "source": [
        "clustering.get_params()"
      ],
      "execution_count": 78,
      "outputs": [
        {
          "output_type": "execute_result",
          "data": {
            "text/plain": [
              "{'affinity': 'euclidean',\n",
              " 'compute_full_tree': 'auto',\n",
              " 'connectivity': None,\n",
              " 'distance_threshold': None,\n",
              " 'linkage': 'ward',\n",
              " 'memory': None,\n",
              " 'n_clusters': 2}"
            ]
          },
          "metadata": {
            "tags": []
          },
          "execution_count": 78
        }
      ]
    },
    {
      "cell_type": "markdown",
      "metadata": {
        "id": "gr_Om9oC6mEY",
        "colab_type": "text"
      },
      "source": [
        "# Fuzzy c-means clustering"
      ]
    },
    {
      "cell_type": "code",
      "metadata": {
        "id": "1fKTc4Rv6hFv",
        "colab_type": "code",
        "colab": {
          "base_uri": "https://localhost:8080/",
          "height": 84
        },
        "outputId": "608c18e8-8832-452b-ba87-17c17ec10ad8"
      },
      "source": [
        "!pip install fuzzy-c-means # python package provided by \n",
        "'''@misc{fuzzy-c-means,\n",
        "    author       = \"Madson Luiz Dantas Dias'''"
      ],
      "execution_count": 80,
      "outputs": [
        {
          "output_type": "stream",
          "text": [
            "Requirement already satisfied: fuzzy-c-means in /usr/local/lib/python3.6/dist-packages (0.0.6)\n",
            "Requirement already satisfied: scipy>=1.1.0 in /usr/local/lib/python3.6/dist-packages (from fuzzy-c-means) (1.4.1)\n",
            "Requirement already satisfied: numpy>=1.15.4 in /usr/local/lib/python3.6/dist-packages (from fuzzy-c-means) (1.18.5)\n"
          ],
          "name": "stdout"
        },
        {
          "output_type": "execute_result",
          "data": {
            "text/plain": [
              "'@misc{fuzzy-c-means,\\n    author       = \"Madson Luiz Dantas Dias'"
            ]
          },
          "metadata": {
            "tags": []
          },
          "execution_count": 80
        }
      ]
    },
    {
      "cell_type": "code",
      "metadata": {
        "id": "kXzCDlpq7Alr",
        "colab_type": "code",
        "colab": {}
      },
      "source": [
        "from fcmeans import FCM\n",
        "from sklearn.datasets import make_blobs\n",
        "from matplotlib import pyplot as plt\n",
        "from seaborn import scatterplot as scatter\n"
      ],
      "execution_count": 81,
      "outputs": []
    },
    {
      "cell_type": "code",
      "metadata": {
        "id": "dL8u4-PP7J5-",
        "colab_type": "code",
        "colab": {}
      },
      "source": [
        "# create artifitial dataset\n",
        "n_samples = 100000\n",
        "n_bins = 5  # use 5 bins for calibration_curve as we have 5 clusters here\n",
        "centers = [(-5, -5), (0, 0), (5, 5),(5,-5),(-5,5)]\n",
        "\n",
        "X,_ = make_blobs(n_samples=n_samples, n_features=2, cluster_std=1.0,\n",
        "                  centers=centers, shuffle=False, random_state=42)"
      ],
      "execution_count": 82,
      "outputs": []
    },
    {
      "cell_type": "code",
      "metadata": {
        "id": "8_O6RhKw7Mc6",
        "colab_type": "code",
        "colab": {
          "base_uri": "https://localhost:8080/",
          "height": 34
        },
        "outputId": "f8be640e-f796-4529-c115-edb67d098c9d"
      },
      "source": [
        "\n",
        "# fit the fuzzy-c-means\n",
        "fcm = FCM(n_clusters=5)\n",
        "fcm.fit(X)"
      ],
      "execution_count": 83,
      "outputs": [
        {
          "output_type": "execute_result",
          "data": {
            "text/plain": [
              "<fcmeans.fcm.FCM at 0x7f0cd032f940>"
            ]
          },
          "metadata": {
            "tags": []
          },
          "execution_count": 83
        }
      ]
    },
    {
      "cell_type": "code",
      "metadata": {
        "id": "orKhhl6g7MXy",
        "colab_type": "code",
        "colab": {}
      },
      "source": [
        "# outputs\n",
        "fcm_centers = fcm.centers\n",
        "fcm_labels  = fcm.u.argmax(axis=1)"
      ],
      "execution_count": 84,
      "outputs": []
    },
    {
      "cell_type": "code",
      "metadata": {
        "id": "Tuo6Lavg7MVh",
        "colab_type": "code",
        "colab": {
          "base_uri": "https://localhost:8080/",
          "height": 320
        },
        "outputId": "9a564fb2-37f1-4029-8d2d-c84b4b3cab65"
      },
      "source": [
        "\n",
        "# plot result\n",
        "%matplotlib inline\n",
        "f, axes = plt.subplots(1, 2, figsize=(11,5))\n",
        "scatter(X[:,0], X[:,1], ax=axes[0])\n",
        "scatter(X[:,0], X[:,1], ax=axes[1], hue=fcm_labels)\n",
        "scatter(fcm_centers[:,0], fcm_centers[:,1], ax=axes[1],marker=\"s\",s=200)\n",
        "plt.show()"
      ],
      "execution_count": 85,
      "outputs": [
        {
          "output_type": "display_data",
          "data": {
            "image/png": "[encoded data removed]",
            "text/plain": [
              "<Figure size 792x360 with 2 Axes>"
            ]
          },
          "metadata": {
            "tags": [],
            "needs_background": "light"
          }
        }
      ]
    },
    {
      "cell_type": "markdown",
      "metadata": {
        "id": "ebFUdLJs8FnT",
        "colab_type": "text"
      },
      "source": [
        "### There are 5 clusters as stated above"
      ]
    }
  ]
}