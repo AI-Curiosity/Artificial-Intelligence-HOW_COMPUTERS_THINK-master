{
  "nbformat": 4,
  "nbformat_minor": 0,
  "metadata": {
    "colab": {
      "name": "Neural Network.ipynb",
      "provenance": []
    },
    "kernelspec": {
      "name": "python3",
      "display_name": "Python 3"
    }
  },
  "cells": [
    {
      "cell_type": "code",
      "metadata": {
        "id": "fV9LL_98d6AN",
        "colab_type": "code",
        "colab": {}
      },
      "source": [
        "# Import Reuirements\n",
        "from keras.layers import Input, Dense\n",
        "from keras.models import Model\n",
        "from keras.datasets import mnist\n",
        "import numpy as np"
      ],
      "execution_count": 33,
      "outputs": []
    },
    {
      "cell_type": "code",
      "metadata": {
        "id": "Z9hw2lLcd9Lw",
        "colab_type": "code",
        "colab": {}
      },
      "source": [
        "from numpy.random import seed\n",
        "seed(1)           # Seeding enables reproducability of result\n",
        "nb_classes = 10\n",
        "nb_epoch = 10\n",
        "batch_size = 256\n",
        "hidden_layer1 = 128\n",
        "hidden_layer2 = 64\n",
        "hidden_layer3 = 10 # because you have 10 categories"
      ],
      "execution_count": 34,
      "outputs": []
    },
    {
      "cell_type": "code",
      "metadata": {
        "id": "_dwG_cgreDck",
        "colab_type": "code",
        "colab": {
          "base_uri": "https://localhost:8080/",
          "height": 84
        },
        "outputId": "d85f56c7-dee4-40fc-ed69-8a84ccab7559"
      },
      "source": [
        "\n",
        "(x_train, y_train), (x_test, y_test) = mnist.load_data()\n",
        "x_train = x_train.astype('float32') / 255.\n",
        "x_test = x_test.astype('float32') / 255.\n",
        "x_train = x_train.reshape((len(x_train), np.prod(x_train.shape[1:])))\n",
        "x_test = x_test.reshape((len(x_test), np.prod(x_test.shape[1:])))\n",
        "print('Train samples: {}'.format(x_train.shape[0]))\n",
        "print('Test samples: {}'.format(x_test.shape[0]))"
      ],
      "execution_count": 35,
      "outputs": [
        {
          "output_type": "stream",
          "text": [
            "Downloading data from https://s3.amazonaws.com/img-datasets/mnist.npz\n",
            "11493376/11490434 [==============================] - 1s 0us/step\n",
            "Train samples: 60000\n",
            "Test samples: 10000\n"
          ],
          "name": "stdout"
        }
      ]
    },
    {
      "cell_type": "code",
      "metadata": {
        "id": "ZWDtgYfNeFRb",
        "colab_type": "code",
        "colab": {}
      },
      "source": [
        "\n",
        "from keras.utils import np_utils\n",
        "\n",
        "y_train = np_utils.to_categorical(y_train, nb_classes)\n",
        "y_test = np_utils.to_categorical(y_test, nb_classes)\n",
        "\n",
        "from keras import backend as K\n",
        "from keras.utils.generic_utils import get_custom_objects"
      ],
      "execution_count": 36,
      "outputs": []
    },
    {
      "cell_type": "markdown",
      "metadata": {
        "id": "_GGPvo67eO90",
        "colab_type": "text"
      },
      "source": [
        "# How to input your own custom mathematical activation functions"
      ]
    },
    {
      "cell_type": "code",
      "metadata": {
        "id": "D0cLZzyReXzp",
        "colab_type": "code",
        "colab": {}
      },
      "source": [
        "from tensorflow.python.keras.layers import Activation\n",
        "from tensorflow.python.keras import backend as K\n",
        "from tensorflow.python.keras.utils.generic_utils import get_custom_objects\n",
        "import tensorflow as tf\n",
        "import math\n",
        "\n",
        "# Swish activation function was invented by google brain\n",
        "def swish(x):\n",
        "    return (K.sigmoid(x) * x)"
      ],
      "execution_count": 37,
      "outputs": []
    },
    {
      "cell_type": "markdown",
      "metadata": {
        "id": "pdWEtk7-evqh",
        "colab_type": "text"
      },
      "source": [
        "## NN with default available activation functions\n"
      ]
    },
    {
      "cell_type": "code",
      "metadata": {
        "id": "QshjP_p_eHu3",
        "colab_type": "code",
        "colab": {}
      },
      "source": [
        "input_img = Input(shape=(784,))\n",
        "encoded = Dense(hidden_layer1, activation='relu')(input_img)\n",
        "encoded = Dense(hidden_layer2, activation='relu')(encoded)\n",
        "encoded = Dense(hidden_layer3, activation='softmax')(encoded)\n",
        "decoded = Dense(hidden_layer2, activation='relu')(encoded)\n",
        "decoded = Dense(hidden_layer1, activation='relu')(decoded)\n",
        "decoded = Dense(784, activation='sigmoid')(decoded)"
      ],
      "execution_count": 40,
      "outputs": []
    },
    {
      "cell_type": "code",
      "metadata": {
        "id": "28E8casxeuo9",
        "colab_type": "code",
        "colab": {
          "base_uri": "https://localhost:8080/",
          "height": 50
        },
        "outputId": "500e4370-dd85-409b-f62d-d357ffee276d"
      },
      "source": [
        "model = Model(input=input_img, output=encoded)\n",
        "model.compile(optimizer='adam',\n",
        "              loss='binary_crossentropy',\n",
        "              metrics=['accuracy'])"
      ],
      "execution_count": 41,
      "outputs": [
        {
          "output_type": "stream",
          "text": [
            "/usr/local/lib/python3.6/dist-packages/ipykernel_launcher.py:1: UserWarning: Update your `Model` call to the Keras 2 API: `Model(inputs=Tensor(\"in..., outputs=Tensor(\"de...)`\n",
            "  \"\"\"Entry point for launching an IPython kernel.\n"
          ],
          "name": "stderr"
        }
      ]
    },
    {
      "cell_type": "code",
      "metadata": {
        "id": "NjfaRZMHeqBa",
        "colab_type": "code",
        "colab": {
          "base_uri": "https://localhost:8080/",
          "height": 420
        },
        "outputId": "917d31ae-f379-4d09-828d-18bab2359379"
      },
      "source": [
        "history=model.fit(x_train, y_train,\n",
        "          nb_epoch=nb_epoch,\n",
        "          batch_size=batch_size,\n",
        "          shuffle=True,\n",
        "          validation_data=(x_test, y_test))\n",
        "score = model.evaluate(x_test, y_test, verbose=1)"
      ],
      "execution_count": 42,
      "outputs": [
        {
          "output_type": "stream",
          "text": [
            "/usr/local/lib/python3.6/dist-packages/ipykernel_launcher.py:5: UserWarning: The `nb_epoch` argument in `fit` has been renamed `epochs`.\n",
            "  \"\"\"\n"
          ],
          "name": "stderr"
        },
        {
          "output_type": "stream",
          "text": [
            "Train on 60000 samples, validate on 10000 samples\n",
            "Epoch 1/10\n",
            "60000/60000 [==============================] - 2s 32us/step - loss: 0.0679 - accuracy: 0.9769 - val_loss: 0.0328 - val_accuracy: 0.9896\n",
            "Epoch 2/10\n",
            "60000/60000 [==============================] - 2s 26us/step - loss: 0.0294 - accuracy: 0.9904 - val_loss: 0.0256 - val_accuracy: 0.9919\n",
            "Epoch 3/10\n",
            "60000/60000 [==============================] - 2s 26us/step - loss: 0.0208 - accuracy: 0.9933 - val_loss: 0.0196 - val_accuracy: 0.9935\n",
            "Epoch 4/10\n",
            "60000/60000 [==============================] - 2s 26us/step - loss: 0.0163 - accuracy: 0.9947 - val_loss: 0.0189 - val_accuracy: 0.9937\n",
            "Epoch 5/10\n",
            "60000/60000 [==============================] - 2s 26us/step - loss: 0.0132 - accuracy: 0.9957 - val_loss: 0.0170 - val_accuracy: 0.9942\n",
            "Epoch 6/10\n",
            "60000/60000 [==============================] - 2s 27us/step - loss: 0.0105 - accuracy: 0.9966 - val_loss: 0.0167 - val_accuracy: 0.9944\n",
            "Epoch 7/10\n",
            "60000/60000 [==============================] - 2s 26us/step - loss: 0.0089 - accuracy: 0.9972 - val_loss: 0.0153 - val_accuracy: 0.9948\n",
            "Epoch 8/10\n",
            "60000/60000 [==============================] - 2s 26us/step - loss: 0.0074 - accuracy: 0.9977 - val_loss: 0.0151 - val_accuracy: 0.9953\n",
            "Epoch 9/10\n",
            "60000/60000 [==============================] - 2s 26us/step - loss: 0.0064 - accuracy: 0.9979 - val_loss: 0.0149 - val_accuracy: 0.9951\n",
            "Epoch 10/10\n",
            "60000/60000 [==============================] - 2s 27us/step - loss: 0.0056 - accuracy: 0.9983 - val_loss: 0.0146 - val_accuracy: 0.9952\n",
            "10000/10000 [==============================] - 0s 27us/step\n"
          ],
          "name": "stdout"
        }
      ]
    },
    {
      "cell_type": "code",
      "metadata": {
        "id": "-aEn2cG3fNs2",
        "colab_type": "code",
        "colab": {
          "base_uri": "https://localhost:8080/",
          "height": 34
        },
        "outputId": "e97be413-b5f6-47b1-b040-f42a1937b2bb"
      },
      "source": [
        "print(history.history.keys())\n"
      ],
      "execution_count": 49,
      "outputs": [
        {
          "output_type": "stream",
          "text": [
            "dict_keys(['val_loss', 'val_accuracy', 'loss', 'accuracy'])\n"
          ],
          "name": "stdout"
        }
      ]
    },
    {
      "cell_type": "code",
      "metadata": {
        "id": "pPsNAh3lfpK1",
        "colab_type": "code",
        "colab": {
          "base_uri": "https://localhost:8080/",
          "height": 689
        },
        "outputId": "31e687d2-433e-4e34-c0ad-c7428be625ab"
      },
      "source": [
        "# Detailed model performance after every epoch, 10 values as 10 epochs used\n",
        "history.history"
      ],
      "execution_count": 53,
      "outputs": [
        {
          "output_type": "execute_result",
          "data": {
            "text/plain": [
              "{'accuracy': [0.9768549,\n",
              "  0.99041635,\n",
              "  0.99327195,\n",
              "  0.99469846,\n",
              "  0.99570805,\n",
              "  0.9966402,\n",
              "  0.9971967,\n",
              "  0.9976863,\n",
              "  0.997895,\n",
              "  0.99825656],\n",
              " 'loss': [0.06785796911120415,\n",
              "  0.029413117388884226,\n",
              "  0.02077370287925005,\n",
              "  0.016294399454693,\n",
              "  0.013153321537623802,\n",
              "  0.010494224242369335,\n",
              "  0.008853799020002285,\n",
              "  0.00742118222763141,\n",
              "  0.006431146345411738,\n",
              "  0.0056151556375126045],\n",
              " 'val_accuracy': [0.9895800948143005,\n",
              "  0.991890013217926,\n",
              "  0.9935398697853088,\n",
              "  0.993690013885498,\n",
              "  0.9942099452018738,\n",
              "  0.9943699240684509,\n",
              "  0.9948400259017944,\n",
              "  0.9953100681304932,\n",
              "  0.9950999021530151,\n",
              "  0.9952400326728821],\n",
              " 'val_loss': [0.03279122709482908,\n",
              "  0.025610695653781296,\n",
              "  0.019574378670938312,\n",
              "  0.018864779736148193,\n",
              "  0.01702302118688822,\n",
              "  0.016657777815591544,\n",
              "  0.015268698211561424,\n",
              "  0.015100009548122762,\n",
              "  0.014888028289086652,\n",
              "  0.01458966584832815]}"
            ]
          },
          "metadata": {
            "tags": []
          },
          "execution_count": 53
        }
      ]
    },
    {
      "cell_type": "code",
      "metadata": {
        "id": "s0FimCome2IH",
        "colab_type": "code",
        "colab": {
          "base_uri": "https://localhost:8080/",
          "height": 34
        },
        "outputId": "212d27f8-4062-4762-debf-1682e638595a"
      },
      "source": [
        "print('Test accuracy :', score[1])\n",
        "# similarly other metrics can be calculated"
      ],
      "execution_count": 50,
      "outputs": [
        {
          "output_type": "stream",
          "text": [
            "Test accuracy : 0.9952396750450134\n"
          ],
          "name": "stdout"
        }
      ]
    },
    {
      "cell_type": "markdown",
      "metadata": {
        "id": "AfIUGzgme-oJ",
        "colab_type": "text"
      },
      "source": [
        "## NN with custom used activation functions\n",
        "\n",
        "-> you can try your own custom functions and see how the model performance changes\n"
      ]
    },
    {
      "cell_type": "code",
      "metadata": {
        "id": "APk3I99NfBeP",
        "colab_type": "code",
        "colab": {}
      },
      "source": [
        "input_img = Input(shape=(784,))\n",
        "encoded = Dense(hidden_layer1, activation=swish)(input_img)\n",
        "encoded = Dense(hidden_layer2, activation=swish)(encoded)\n",
        "encoded = Dense(hidden_layer3, activation='softmax')(encoded)\n",
        "decoded = Dense(hidden_layer2, activation=swish)(encoded)\n",
        "decoded = Dense(hidden_layer1, activation=swish)(decoded)\n",
        "decoded = Dense(784, activation='sigmoid')(decoded)"
      ],
      "execution_count": 54,
      "outputs": []
    },
    {
      "cell_type": "code",
      "metadata": {
        "id": "tsWI-e0uf_Hw",
        "colab_type": "code",
        "colab": {
          "base_uri": "https://localhost:8080/",
          "height": 50
        },
        "outputId": "10129117-9887-4f77-9358-35a132b7a7df"
      },
      "source": [
        "model = Model(input=input_img, output=encoded)\n",
        "model.compile(optimizer='adam',\n",
        "              loss='binary_crossentropy',\n",
        "              metrics=['accuracy'])"
      ],
      "execution_count": 55,
      "outputs": [
        {
          "output_type": "stream",
          "text": [
            "/usr/local/lib/python3.6/dist-packages/ipykernel_launcher.py:1: UserWarning: Update your `Model` call to the Keras 2 API: `Model(inputs=Tensor(\"in..., outputs=Tensor(\"de...)`\n",
            "  \"\"\"Entry point for launching an IPython kernel.\n"
          ],
          "name": "stderr"
        }
      ]
    },
    {
      "cell_type": "code",
      "metadata": {
        "id": "JpjQNEa0gBYL",
        "colab_type": "code",
        "colab": {
          "base_uri": "https://localhost:8080/",
          "height": 420
        },
        "outputId": "5f28732f-414b-4f07-844a-d522100f2a1e"
      },
      "source": [
        "history=model.fit(x_train, y_train,\n",
        "          nb_epoch=nb_epoch,\n",
        "          batch_size=batch_size,\n",
        "          shuffle=True,\n",
        "          validation_data=(x_test, y_test))\n",
        "score = model.evaluate(x_test, y_test, verbose=1)"
      ],
      "execution_count": 56,
      "outputs": [
        {
          "output_type": "stream",
          "text": [
            "/usr/local/lib/python3.6/dist-packages/ipykernel_launcher.py:5: UserWarning: The `nb_epoch` argument in `fit` has been renamed `epochs`.\n",
            "  \"\"\"\n"
          ],
          "name": "stderr"
        },
        {
          "output_type": "stream",
          "text": [
            "Train on 60000 samples, validate on 10000 samples\n",
            "Epoch 1/10\n",
            "60000/60000 [==============================] - 2s 29us/step - loss: 0.0690 - accuracy: 0.9763 - val_loss: 0.0361 - val_accuracy: 0.9880\n",
            "Epoch 2/10\n",
            "60000/60000 [==============================] - 2s 26us/step - loss: 0.0310 - accuracy: 0.9899 - val_loss: 0.0258 - val_accuracy: 0.9914\n",
            "Epoch 3/10\n",
            "60000/60000 [==============================] - 2s 26us/step - loss: 0.0225 - accuracy: 0.9928 - val_loss: 0.0208 - val_accuracy: 0.9931\n",
            "Epoch 4/10\n",
            "60000/60000 [==============================] - 2s 26us/step - loss: 0.0177 - accuracy: 0.9943 - val_loss: 0.0177 - val_accuracy: 0.9941\n",
            "Epoch 5/10\n",
            "60000/60000 [==============================] - 2s 26us/step - loss: 0.0146 - accuracy: 0.9953 - val_loss: 0.0178 - val_accuracy: 0.9939\n",
            "Epoch 6/10\n",
            "60000/60000 [==============================] - 2s 26us/step - loss: 0.0119 - accuracy: 0.9962 - val_loss: 0.0152 - val_accuracy: 0.9948\n",
            "Epoch 7/10\n",
            "60000/60000 [==============================] - 2s 26us/step - loss: 0.0103 - accuracy: 0.9966 - val_loss: 0.0141 - val_accuracy: 0.9954\n",
            "Epoch 8/10\n",
            "60000/60000 [==============================] - 2s 26us/step - loss: 0.0085 - accuracy: 0.9972 - val_loss: 0.0157 - val_accuracy: 0.9947\n",
            "Epoch 9/10\n",
            "60000/60000 [==============================] - 2s 26us/step - loss: 0.0074 - accuracy: 0.9977 - val_loss: 0.0159 - val_accuracy: 0.9946\n",
            "Epoch 10/10\n",
            "60000/60000 [==============================] - 2s 26us/step - loss: 0.0065 - accuracy: 0.9979 - val_loss: 0.0137 - val_accuracy: 0.9956\n",
            "10000/10000 [==============================] - 0s 25us/step\n"
          ],
          "name": "stdout"
        }
      ]
    },
    {
      "cell_type": "code",
      "metadata": {
        "id": "pb3ZfaiJgE4x",
        "colab_type": "code",
        "colab": {
          "base_uri": "https://localhost:8080/",
          "height": 34
        },
        "outputId": "11101ccf-a8cb-4ead-9814-06279780ed9b"
      },
      "source": [
        "print('Test accuracy :', score[1])\n"
      ],
      "execution_count": 57,
      "outputs": [
        {
          "output_type": "stream",
          "text": [
            "Test accuracy : 0.995589554309845\n"
          ],
          "name": "stdout"
        }
      ]
    },
    {
      "cell_type": "code",
      "metadata": {
        "id": "XHuNlJHMgKI2",
        "colab_type": "code",
        "colab": {}
      },
      "source": [
        "# Accuracy increased on using a better activation function"
      ],
      "execution_count": 58,
      "outputs": []
    },
    {
      "cell_type": "code",
      "metadata": {
        "id": "14q9HEPLgamR",
        "colab_type": "code",
        "colab": {
          "base_uri": "https://localhost:8080/",
          "height": 295
        },
        "outputId": "edd7f7ef-e413-4cf8-cbaf-c1aecf4bdb4b"
      },
      "source": [
        "# summarize history for loss\n",
        "import matplotlib.pyplot as plt\n",
        "fig = plt.figure()\n",
        "\n",
        "plt.plot(history.history['loss'])\n",
        "plt.plot(history.history['val_loss'])\n",
        "plt.title('model loss')\n",
        "plt.ylabel('loss')\n",
        "plt.xlabel('epoch')\n",
        "plt.legend(['train', 'test'], loc='upper right')\n",
        "\n",
        "\n",
        "from google.colab import files\n",
        "# plt.savefig(\"swish_loss.png\")\n",
        "# files.download(\"swish_loss.png\") \n",
        "\n",
        "\n",
        "plt.show()"
      ],
      "execution_count": 59,
      "outputs": [
        {
          "output_type": "display_data",
          "data": {
            "image/png": "[encoded data removed]",
            "text/plain": [
              "<Figure size 432x288 with 1 Axes>"
            ]
          },
          "metadata": {
            "tags": [],
            "needs_background": "light"
          }
        }
      ]
    },
    {
      "cell_type": "code",
      "metadata": {
        "id": "9vH6ekRYgdPL",
        "colab_type": "code",
        "colab": {
          "base_uri": "https://localhost:8080/",
          "height": 295
        },
        "outputId": "00e2c4b9-eced-4f40-e193-f0b618a8de0f"
      },
      "source": [
        "# summarize history for accuracy\n",
        "import matplotlib.pyplot as plt\n",
        "fig = plt.figure()\n",
        "\n",
        "plt.plot(history.history['accuracy'])\n",
        "plt.plot(history.history['val_accuracy'])\n",
        "plt.title('model accuracy')\n",
        "plt.ylabel('accuracy')\n",
        "plt.xlabel('epoch')\n",
        "plt.legend(['train', 'test'], loc='lower right')\n",
        "\n",
        "\n",
        "# from google.colab import files\n",
        "# plt.savefig(\"eswish_accuracy.png\")\n",
        "# files.download(\"eswish_accuracy.png\") \n",
        "\n",
        "\n",
        "plt.show()"
      ],
      "execution_count": 62,
      "outputs": [
        {
          "output_type": "display_data",
          "data": {
            "image/png": "[encoded data removed]",
            "text/plain": [
              "<Figure size 432x288 with 1 Axes>"
            ]
          },
          "metadata": {
            "tags": [],
            "needs_background": "light"
          }
        }
      ]
    },
    {
      "cell_type": "code",
      "metadata": {
        "id": "jspqlR3KgixA",
        "colab_type": "code",
        "colab": {}
      },
      "source": [
        ""
      ],
      "execution_count": null,
      "outputs": []
    }
  ]
}